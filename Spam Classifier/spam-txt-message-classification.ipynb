{
 "cells": [
  {
   "cell_type": "code",
   "execution_count": 1,
   "id": "c9ae18f0",
   "metadata": {
    "_cell_guid": "b1076dfc-b9ad-4769-8c92-a6c4dae69d19",
    "_uuid": "8f2839f25d086af736a60e9eeb907d3b93b6e0e5",
    "execution": {
     "iopub.execute_input": "2022-09-14T00:41:31.028276Z",
     "iopub.status.busy": "2022-09-14T00:41:31.027129Z",
     "iopub.status.idle": "2022-09-14T00:41:31.048523Z",
     "shell.execute_reply": "2022-09-14T00:41:31.047354Z"
    },
    "papermill": {
     "duration": 0.036653,
     "end_time": "2022-09-14T00:41:31.051148",
     "exception": false,
     "start_time": "2022-09-14T00:41:31.014495",
     "status": "completed"
    },
    "tags": []
   },
   "outputs": [
    {
     "name": "stdout",
     "output_type": "stream",
     "text": [
      "/kaggle/input/spam-text-message-classification/SPAM text message 20170820 - Data.csv\n"
     ]
    }
   ],
   "source": [
    "# This Python 3 environment comes with many helpful analytics libraries installed\n",
    "# It is defined by the kaggle/python Docker image: https://github.com/kaggle/docker-python\n",
    "# For example, here's several helpful packages to load\n",
    "\n",
    "import numpy as np # linear algebra\n",
    "import pandas as pd # data processing, CSV file I/O (e.g. pd.read_csv)\n",
    "\n",
    "# Input data files are available in the read-only \"../input/\" directory\n",
    "# For example, running this (by clicking run or pressing Shift+Enter) will list all files under the input directory\n",
    "\n",
    "import os\n",
    "for dirname, _, filenames in os.walk('/kaggle/input'):\n",
    "    for filename in filenames:\n",
    "        print(os.path.join(dirname, filename))\n",
    "\n",
    "# You can write up to 20GB to the current directory (/kaggle/working/) that gets preserved as output when you create a version using \"Save & Run All\" \n",
    "# You can also write temporary files to /kaggle/temp/, but they won't be saved outside of the current session"
   ]
  },
  {
   "cell_type": "code",
   "execution_count": 2,
   "id": "30184b66",
   "metadata": {
    "execution": {
     "iopub.execute_input": "2022-09-14T00:41:31.072387Z",
     "iopub.status.busy": "2022-09-14T00:41:31.071731Z",
     "iopub.status.idle": "2022-09-14T00:41:31.103005Z",
     "shell.execute_reply": "2022-09-14T00:41:31.101699Z"
    },
    "papermill": {
     "duration": 0.045073,
     "end_time": "2022-09-14T00:41:31.105934",
     "exception": false,
     "start_time": "2022-09-14T00:41:31.060861",
     "status": "completed"
    },
    "tags": []
   },
   "outputs": [],
   "source": [
    "df = pd.read_csv('../input/spam-text-message-classification/SPAM text message 20170820 - Data.csv')"
   ]
  },
  {
   "cell_type": "code",
   "execution_count": 3,
   "id": "d190c0cb",
   "metadata": {
    "execution": {
     "iopub.execute_input": "2022-09-14T00:41:31.127206Z",
     "iopub.status.busy": "2022-09-14T00:41:31.126445Z",
     "iopub.status.idle": "2022-09-14T00:41:31.146030Z",
     "shell.execute_reply": "2022-09-14T00:41:31.144757Z"
    },
    "papermill": {
     "duration": 0.032651,
     "end_time": "2022-09-14T00:41:31.148686",
     "exception": false,
     "start_time": "2022-09-14T00:41:31.116035",
     "status": "completed"
    },
    "tags": []
   },
   "outputs": [
    {
     "data": {
      "text/html": [
       "<div>\n",
       "<style scoped>\n",
       "    .dataframe tbody tr th:only-of-type {\n",
       "        vertical-align: middle;\n",
       "    }\n",
       "\n",
       "    .dataframe tbody tr th {\n",
       "        vertical-align: top;\n",
       "    }\n",
       "\n",
       "    .dataframe thead th {\n",
       "        text-align: right;\n",
       "    }\n",
       "</style>\n",
       "<table border=\"1\" class=\"dataframe\">\n",
       "  <thead>\n",
       "    <tr style=\"text-align: right;\">\n",
       "      <th></th>\n",
       "      <th>Category</th>\n",
       "      <th>Message</th>\n",
       "    </tr>\n",
       "  </thead>\n",
       "  <tbody>\n",
       "    <tr>\n",
       "      <th>0</th>\n",
       "      <td>ham</td>\n",
       "      <td>Go until jurong point, crazy.. Available only ...</td>\n",
       "    </tr>\n",
       "    <tr>\n",
       "      <th>1</th>\n",
       "      <td>ham</td>\n",
       "      <td>Ok lar... Joking wif u oni...</td>\n",
       "    </tr>\n",
       "    <tr>\n",
       "      <th>2</th>\n",
       "      <td>spam</td>\n",
       "      <td>Free entry in 2 a wkly comp to win FA Cup fina...</td>\n",
       "    </tr>\n",
       "    <tr>\n",
       "      <th>3</th>\n",
       "      <td>ham</td>\n",
       "      <td>U dun say so early hor... U c already then say...</td>\n",
       "    </tr>\n",
       "    <tr>\n",
       "      <th>4</th>\n",
       "      <td>ham</td>\n",
       "      <td>Nah I don't think he goes to usf, he lives aro...</td>\n",
       "    </tr>\n",
       "  </tbody>\n",
       "</table>\n",
       "</div>"
      ],
      "text/plain": [
       "  Category                                            Message\n",
       "0      ham  Go until jurong point, crazy.. Available only ...\n",
       "1      ham                      Ok lar... Joking wif u oni...\n",
       "2     spam  Free entry in 2 a wkly comp to win FA Cup fina...\n",
       "3      ham  U dun say so early hor... U c already then say...\n",
       "4      ham  Nah I don't think he goes to usf, he lives aro..."
      ]
     },
     "execution_count": 3,
     "metadata": {},
     "output_type": "execute_result"
    }
   ],
   "source": [
    "df.head()"
   ]
  },
  {
   "cell_type": "code",
   "execution_count": 4,
   "id": "aa5bba23",
   "metadata": {
    "execution": {
     "iopub.execute_input": "2022-09-14T00:41:31.170214Z",
     "iopub.status.busy": "2022-09-14T00:41:31.169564Z",
     "iopub.status.idle": "2022-09-14T00:41:31.192854Z",
     "shell.execute_reply": "2022-09-14T00:41:31.191088Z"
    },
    "papermill": {
     "duration": 0.037344,
     "end_time": "2022-09-14T00:41:31.195924",
     "exception": false,
     "start_time": "2022-09-14T00:41:31.158580",
     "status": "completed"
    },
    "tags": []
   },
   "outputs": [
    {
     "name": "stdout",
     "output_type": "stream",
     "text": [
      "<class 'pandas.core.frame.DataFrame'>\n",
      "RangeIndex: 5572 entries, 0 to 5571\n",
      "Data columns (total 2 columns):\n",
      " #   Column    Non-Null Count  Dtype \n",
      "---  ------    --------------  ----- \n",
      " 0   Category  5572 non-null   object\n",
      " 1   Message   5572 non-null   object\n",
      "dtypes: object(2)\n",
      "memory usage: 87.2+ KB\n"
     ]
    }
   ],
   "source": [
    "df.info()"
   ]
  },
  {
   "cell_type": "code",
   "execution_count": 5,
   "id": "569e0990",
   "metadata": {
    "execution": {
     "iopub.execute_input": "2022-09-14T00:41:31.218708Z",
     "iopub.status.busy": "2022-09-14T00:41:31.217983Z",
     "iopub.status.idle": "2022-09-14T00:41:31.224827Z",
     "shell.execute_reply": "2022-09-14T00:41:31.223785Z"
    },
    "papermill": {
     "duration": 0.020112,
     "end_time": "2022-09-14T00:41:31.227022",
     "exception": false,
     "start_time": "2022-09-14T00:41:31.206910",
     "status": "completed"
    },
    "tags": []
   },
   "outputs": [
    {
     "data": {
      "text/plain": [
       "(5572, 2)"
      ]
     },
     "execution_count": 5,
     "metadata": {},
     "output_type": "execute_result"
    }
   ],
   "source": [
    "df.shape"
   ]
  },
  {
   "cell_type": "code",
   "execution_count": 6,
   "id": "fca7c823",
   "metadata": {
    "execution": {
     "iopub.execute_input": "2022-09-14T00:41:31.248087Z",
     "iopub.status.busy": "2022-09-14T00:41:31.247306Z",
     "iopub.status.idle": "2022-09-14T00:41:31.256154Z",
     "shell.execute_reply": "2022-09-14T00:41:31.255359Z"
    },
    "papermill": {
     "duration": 0.021621,
     "end_time": "2022-09-14T00:41:31.258246",
     "exception": false,
     "start_time": "2022-09-14T00:41:31.236625",
     "status": "completed"
    },
    "tags": []
   },
   "outputs": [
    {
     "data": {
      "text/plain": [
       "Category    0\n",
       "Message     0\n",
       "dtype: int64"
      ]
     },
     "execution_count": 6,
     "metadata": {},
     "output_type": "execute_result"
    }
   ],
   "source": [
    "df.isnull().sum()"
   ]
  },
  {
   "cell_type": "markdown",
   "id": "91907b5b",
   "metadata": {
    "papermill": {
     "duration": 0.009487,
     "end_time": "2022-09-14T00:41:31.277522",
     "exception": false,
     "start_time": "2022-09-14T00:41:31.268035",
     "status": "completed"
    },
    "tags": []
   },
   "source": [
    "# Data Cleaning "
   ]
  },
  {
   "cell_type": "code",
   "execution_count": 7,
   "id": "4f098cb6",
   "metadata": {
    "execution": {
     "iopub.execute_input": "2022-09-14T00:41:31.299105Z",
     "iopub.status.busy": "2022-09-14T00:41:31.298371Z",
     "iopub.status.idle": "2022-09-14T00:41:32.956921Z",
     "shell.execute_reply": "2022-09-14T00:41:32.955566Z"
    },
    "papermill": {
     "duration": 1.672649,
     "end_time": "2022-09-14T00:41:32.959878",
     "exception": false,
     "start_time": "2022-09-14T00:41:31.287229",
     "status": "completed"
    },
    "tags": []
   },
   "outputs": [],
   "source": [
    "import re \n",
    "import nltk \n",
    "from nltk.corpus import stopwords \n",
    "from nltk.stem.porter import PorterStemmer"
   ]
  },
  {
   "cell_type": "code",
   "execution_count": 8,
   "id": "240570a0",
   "metadata": {
    "execution": {
     "iopub.execute_input": "2022-09-14T00:41:32.981565Z",
     "iopub.status.busy": "2022-09-14T00:41:32.981166Z",
     "iopub.status.idle": "2022-09-14T00:41:32.985158Z",
     "shell.execute_reply": "2022-09-14T00:41:32.984393Z"
    },
    "papermill": {
     "duration": 0.017616,
     "end_time": "2022-09-14T00:41:32.987458",
     "exception": false,
     "start_time": "2022-09-14T00:41:32.969842",
     "status": "completed"
    },
    "tags": []
   },
   "outputs": [],
   "source": [
    "ps = PorterStemmer()"
   ]
  },
  {
   "cell_type": "code",
   "execution_count": 9,
   "id": "b26d1c28",
   "metadata": {
    "execution": {
     "iopub.execute_input": "2022-09-14T00:41:33.008393Z",
     "iopub.status.busy": "2022-09-14T00:41:33.007974Z",
     "iopub.status.idle": "2022-09-14T00:41:33.012326Z",
     "shell.execute_reply": "2022-09-14T00:41:33.011552Z"
    },
    "papermill": {
     "duration": 0.017375,
     "end_time": "2022-09-14T00:41:33.014361",
     "exception": false,
     "start_time": "2022-09-14T00:41:32.996986",
     "status": "completed"
    },
    "tags": []
   },
   "outputs": [],
   "source": [
    "#lowercasing the message \n",
    "# df['txt_clean'] = df['Message'].apply(lambda x:x.lower())"
   ]
  },
  {
   "cell_type": "code",
   "execution_count": 10,
   "id": "1f680b0f",
   "metadata": {
    "execution": {
     "iopub.execute_input": "2022-09-14T00:41:33.036004Z",
     "iopub.status.busy": "2022-09-14T00:41:33.035258Z",
     "iopub.status.idle": "2022-09-14T00:41:33.045432Z",
     "shell.execute_reply": "2022-09-14T00:41:33.044382Z"
    },
    "papermill": {
     "duration": 0.023904,
     "end_time": "2022-09-14T00:41:33.048014",
     "exception": false,
     "start_time": "2022-09-14T00:41:33.024110",
     "status": "completed"
    },
    "tags": []
   },
   "outputs": [
    {
     "data": {
      "text/html": [
       "<div>\n",
       "<style scoped>\n",
       "    .dataframe tbody tr th:only-of-type {\n",
       "        vertical-align: middle;\n",
       "    }\n",
       "\n",
       "    .dataframe tbody tr th {\n",
       "        vertical-align: top;\n",
       "    }\n",
       "\n",
       "    .dataframe thead th {\n",
       "        text-align: right;\n",
       "    }\n",
       "</style>\n",
       "<table border=\"1\" class=\"dataframe\">\n",
       "  <thead>\n",
       "    <tr style=\"text-align: right;\">\n",
       "      <th></th>\n",
       "      <th>Category</th>\n",
       "      <th>Message</th>\n",
       "    </tr>\n",
       "  </thead>\n",
       "  <tbody>\n",
       "    <tr>\n",
       "      <th>0</th>\n",
       "      <td>ham</td>\n",
       "      <td>Go until jurong point, crazy.. Available only ...</td>\n",
       "    </tr>\n",
       "    <tr>\n",
       "      <th>1</th>\n",
       "      <td>ham</td>\n",
       "      <td>Ok lar... Joking wif u oni...</td>\n",
       "    </tr>\n",
       "    <tr>\n",
       "      <th>2</th>\n",
       "      <td>spam</td>\n",
       "      <td>Free entry in 2 a wkly comp to win FA Cup fina...</td>\n",
       "    </tr>\n",
       "    <tr>\n",
       "      <th>3</th>\n",
       "      <td>ham</td>\n",
       "      <td>U dun say so early hor... U c already then say...</td>\n",
       "    </tr>\n",
       "    <tr>\n",
       "      <th>4</th>\n",
       "      <td>ham</td>\n",
       "      <td>Nah I don't think he goes to usf, he lives aro...</td>\n",
       "    </tr>\n",
       "  </tbody>\n",
       "</table>\n",
       "</div>"
      ],
      "text/plain": [
       "  Category                                            Message\n",
       "0      ham  Go until jurong point, crazy.. Available only ...\n",
       "1      ham                      Ok lar... Joking wif u oni...\n",
       "2     spam  Free entry in 2 a wkly comp to win FA Cup fina...\n",
       "3      ham  U dun say so early hor... U c already then say...\n",
       "4      ham  Nah I don't think he goes to usf, he lives aro..."
      ]
     },
     "execution_count": 10,
     "metadata": {},
     "output_type": "execute_result"
    }
   ],
   "source": [
    "df.head()"
   ]
  },
  {
   "cell_type": "markdown",
   "id": "abdaa75d",
   "metadata": {
    "papermill": {
     "duration": 0.009902,
     "end_time": "2022-09-14T00:41:33.068212",
     "exception": false,
     "start_time": "2022-09-14T00:41:33.058310",
     "status": "completed"
    },
    "tags": []
   },
   "source": [
    "#"
   ]
  },
  {
   "cell_type": "code",
   "execution_count": 11,
   "id": "d85a376c",
   "metadata": {
    "execution": {
     "iopub.execute_input": "2022-09-14T00:41:33.090429Z",
     "iopub.status.busy": "2022-09-14T00:41:33.089968Z",
     "iopub.status.idle": "2022-09-14T00:41:49.468543Z",
     "shell.execute_reply": "2022-09-14T00:41:49.467558Z"
    },
    "papermill": {
     "duration": 16.392906,
     "end_time": "2022-09-14T00:41:49.471313",
     "exception": false,
     "start_time": "2022-09-14T00:41:33.078407",
     "status": "completed"
    },
    "tags": []
   },
   "outputs": [],
   "source": [
    "corpus = []\n",
    "for i in range(len(df)):\n",
    "    clean_txt = re.sub('[^a-zA-z]',' ',df['Message'][i])\n",
    "    clean_txt = clean_txt.lower()\n",
    "    clean_txt = nltk.word_tokenize(clean_txt)\n",
    "    clean_txt = [ps.stem(word) for word in clean_txt if word not in set(stopwords.words('english'))]\n",
    "    clean_txt = ' '.join(clean_txt)\n",
    "    corpus.append(clean_txt)\n",
    "    "
   ]
  },
  {
   "cell_type": "code",
   "execution_count": 12,
   "id": "943c1c19",
   "metadata": {
    "execution": {
     "iopub.execute_input": "2022-09-14T00:41:49.493865Z",
     "iopub.status.busy": "2022-09-14T00:41:49.493232Z",
     "iopub.status.idle": "2022-09-14T00:41:49.496983Z",
     "shell.execute_reply": "2022-09-14T00:41:49.496201Z"
    },
    "papermill": {
     "duration": 0.017606,
     "end_time": "2022-09-14T00:41:49.499113",
     "exception": false,
     "start_time": "2022-09-14T00:41:49.481507",
     "status": "completed"
    },
    "tags": []
   },
   "outputs": [],
   "source": [
    "#remove numerics and symblos \n",
    "# def remove_chars(txt):\n",
    "#     clean_txt = re.compile('[^a-zA-Z]')\n",
    "#     return clean_txt.sub(' ',txt)\n",
    "\n",
    "# df['txt_clean'] = df['txt_clean'].apply(remove_chars)"
   ]
  },
  {
   "cell_type": "markdown",
   "id": "0842cf1b",
   "metadata": {
    "papermill": {
     "duration": 0.00974,
     "end_time": "2022-09-14T00:41:49.519065",
     "exception": false,
     "start_time": "2022-09-14T00:41:49.509325",
     "status": "completed"
    },
    "tags": []
   },
   "source": []
  },
  {
   "cell_type": "markdown",
   "id": "87072729",
   "metadata": {
    "papermill": {
     "duration": 0.010033,
     "end_time": "2022-09-14T00:41:49.539484",
     "exception": false,
     "start_time": "2022-09-14T00:41:49.529451",
     "status": "completed"
    },
    "tags": []
   },
   "source": [
    "# Extract Feature text "
   ]
  },
  {
   "cell_type": "code",
   "execution_count": 13,
   "id": "1803756a",
   "metadata": {
    "execution": {
     "iopub.execute_input": "2022-09-14T00:41:49.561925Z",
     "iopub.status.busy": "2022-09-14T00:41:49.560961Z",
     "iopub.status.idle": "2022-09-14T00:41:49.565881Z",
     "shell.execute_reply": "2022-09-14T00:41:49.564803Z"
    },
    "papermill": {
     "duration": 0.018446,
     "end_time": "2022-09-14T00:41:49.568298",
     "exception": false,
     "start_time": "2022-09-14T00:41:49.549852",
     "status": "completed"
    },
    "tags": []
   },
   "outputs": [],
   "source": [
    "from sklearn.feature_extraction.text import CountVectorizer\n",
    "cv = CountVectorizer(max_features=5000)\n"
   ]
  },
  {
   "cell_type": "code",
   "execution_count": 14,
   "id": "834c4f7f",
   "metadata": {
    "execution": {
     "iopub.execute_input": "2022-09-14T00:41:49.590144Z",
     "iopub.status.busy": "2022-09-14T00:41:49.589537Z",
     "iopub.status.idle": "2022-09-14T00:41:49.664962Z",
     "shell.execute_reply": "2022-09-14T00:41:49.663676Z"
    },
    "papermill": {
     "duration": 0.089564,
     "end_time": "2022-09-14T00:41:49.667775",
     "exception": false,
     "start_time": "2022-09-14T00:41:49.578211",
     "status": "completed"
    },
    "tags": []
   },
   "outputs": [],
   "source": [
    "X = cv.fit(corpus)"
   ]
  },
  {
   "cell_type": "code",
   "execution_count": 15,
   "id": "52c6e69b",
   "metadata": {
    "execution": {
     "iopub.execute_input": "2022-09-14T00:41:49.690310Z",
     "iopub.status.busy": "2022-09-14T00:41:49.689315Z",
     "iopub.status.idle": "2022-09-14T00:41:49.704067Z",
     "shell.execute_reply": "2022-09-14T00:41:49.702153Z"
    },
    "papermill": {
     "duration": 0.02971,
     "end_time": "2022-09-14T00:41:49.707542",
     "exception": false,
     "start_time": "2022-09-14T00:41:49.677832",
     "status": "completed"
    },
    "tags": []
   },
   "outputs": [
    {
     "name": "stdout",
     "output_type": "stream",
     "text": [
      "['____', 'aa', 'aah', 'aaniy', 'aaooooright', 'aathi', 'ab', 'abbey', 'abdomen', 'abeg', 'abel', 'aberdeen', 'abi', 'abil', 'abiola', 'abj', 'abl', 'abnorm', 'abouta', 'abroad', 'absenc', 'absolut', 'absolutli', 'abstract', 'abt', 'abta', 'aburo', 'abus', 'ac', 'academ', 'acc', 'accent', 'accentur', 'accept', 'access', 'accid', 'accident', 'accommod', 'accommodationvouch', 'accomod', 'accordin', 'accordingli', 'account', 'accumul', 'ach', 'achan', 'achiev', 'acid', 'acknowledg', 'acl', 'acnt', 'aco', 'across', 'act', 'actin', 'action', 'activ', 'actor', 'actual', 'ad', 'adam', 'add', 'addamsfa', 'addi', 'addict', 'address', 'adewal', 'adi', 'adjust', 'admin', 'administr', 'admir', 'admiss', 'admit', 'ador', 'adp', 'adress', 'adrian', 'adrink', 'adsens', 'adult', 'advanc', 'adventur', 'advic', 'advis', 'advisor', 'ae', 'aeronaut', 'aeroplan', 'afew', 'affair', 'affect', 'affection', 'affidavit', 'afford', 'afghanistan', 'afraid', 'africa', 'african', 'aft', 'afternon', 'afternoon', 'afterward', 'aftr', 'ag', 'agalla', 'age', 'agenc', 'agent', 'agidhan', 'ago', 'agre', 'ah', 'aha', 'ahead', 'ahhh', 'ahhhh', 'ahmad', 'ahold', 'aid', 'aig', 'aight', 'aint', 'air', 'airport', 'airtel', 'aiya', 'aiyah', 'aiyar', 'aiyo', 'aj', 'ajith', 'ak', 'aka', 'akon', 'al', 'alaikkum', 'alaipayuth', 'albi', 'album', 'alcohol', 'aldrin', 'alert', 'alertfrom', 'alett', 'alex', 'alfi', 'algarv', 'algebra', 'algorithm', 'ali', 'alian', 'alibi', 'aliv', 'all', 'allah', 'allalo', 'allday', 'allo', 'allow', 'almost', 'alon', 'along', 'alot', 'alreadi', 'alright', 'alrit', 'also', 'alter', 'altern', 'although', 'alto', 'aluabl', 'alwa', 'alway', 'alwi', 'am', 'amanda', 'amaz', 'ambiti', 'ambrith', 'american', 'ami', 'amigo', 'amk', 'amla', 'amma', 'ammo', 'amnow', 'among', 'amongst', 'amor', 'amount', 'amp', 'amplikat', 'amrca', 'amrita', 'amt', 'amus', 'an', 'ana', 'anal', 'analysi', 'anand', 'anderson', 'andr', 'andrew', 'andro', 'angel', 'angri', 'anim', 'anji', 'anjola', 'anna', 'anni', 'anniversari', 'annonc', 'announc', 'annoy', 'annoyin', 'anonym', 'anot', 'anoth', 'ansr', 'answer', 'answerin', 'answr', 'antelop', 'antha', 'anthoni', 'anti', 'antibiot', 'anybodi', 'anyhow', 'anymor', 'anyon', 'anyplac', 'anyth', 'anythi', 'anythin', 'anythingtomorrow', 'anytim', 'anyway', 'anywher', 'aom', 'apart', 'ape', 'apeshit', 'aphex', 'apnt', 'apo', 'apolog', 'apologet', 'apologis', 'app', 'appar', 'appeal', 'appear', 'appendix', 'appi', 'appl', 'applausestor', 'applebe', 'appli', 'applic', 'appoint', 'appreci', 'approach', 'appropri', 'approv', 'approx', 'appt', 'apr', 'april', 'aproach', 'apt', 'aptitud', 'aq', 'aquariu', 'ar', 'arab', 'arabian', 'arcad', 'archiv', 'ard', 'area', 'arent', 'arestaur', 'aretak', 'areyouuniqu', 'argentina', 'argh', 'argu', 'argument', 'ari', 'aris', 'arithmet', 'arm', 'armand', 'armenia', 'arng', 'arngd', 'arnt', 'around', 'aroundn', 'arr', 'arrang', 'arrest', 'arriv', 'arrow', 'arsen', 'art', 'arti', 'artist', 'arul', 'arun', 'asa', 'asap', 'asda', 'ash', 'ashley', 'ashwini', 'asia', 'asian', 'asjesu', 'ask', 'askd', 'askin', 'aslamalaikkum', 'asleep', 'asp', 'aspect', 'ass', 'assess', 'asshol', 'assist', 'associ', 'asssssholeee', 'assum', 'asther', 'asthma', 'astn', 'astoundingli', 'astrolog', 'astronom', 'asu', 'asusu', 'ate', 'athlet', 'athom', 'atlanta', 'atlast', 'atleast', 'atm', 'atroci', 'attach', 'attack', 'attempt', 'atten', 'attend', 'attent', 'attitud', 'attract', 'attribut', 'atur', 'auction', 'audiit', 'audit', 'audrey', 'audri', 'august', 'aunt', 'aunti', 'aust', 'australia', 'authoris', 'auto', 'autocorrect', 'av', 'ava', 'avail', 'availa', 'avalarr', 'avatar', 'avbl', 'ave', 'aveng', 'avent', 'avenu', 'avin', 'avo', 'avoid', 'await', 'awak', 'award', 'away', 'awesom', 'awkward', 'aww', 'awww', 'ax', 'axel', 'axi', 'ay', 'ayn', 'ayo', 'ba', 'baaaaaaaab', 'baaaaab', 'babe', 'babi', 'babygoodby', 'babyjontet', 'babysit', 'bac', 'back', 'backdoor', 'backward', 'bad', 'badass', 'badli', 'badrith', 'bag', 'bahama', 'baig', 'bailiff', 'bajarangabali', 'bak', 'bakra', 'bakrid', 'balanc', 'ball', 'baller', 'balloon', 'bam', 'bambl', 'ban', 'band', 'bandag', 'bang', 'bangb', 'bangbab', 'bani', 'bank', 'banneduk', 'banter', 'bao', 'bar', 'barbi', 'barcelona', 'bare', 'bari', 'barkley', 'barm', 'barolla', 'barrel', 'barri', 'base', 'bash', 'basic', 'basket', 'basketbal', 'basq', 'bat', 'batch', 'batchlor', 'bath', 'bathroom', 'batsman', 'batt', 'batteri', 'battl', 'bawl', 'bay', 'bb', 'bbc', 'bbd', 'bbdelux', 'bbq', 'bc', 'bcaz', 'bck', 'bcm', 'bcmsfwc', 'bcoz', 'bcum', 'bcz', 'bday', 'beach', 'bead', 'bear', 'beat', 'beauti', 'bec', 'becau', 'becausethey', 'becom', 'becoz', 'becz', 'bed', 'bedbut', 'bedreal', 'bedrm', 'bedroom', 'beeen', 'beehoon', 'beendrop', 'beer', 'beerag', 'befor', 'beforehand', 'beg', 'beggar', 'begin', 'begun', 'behalf', 'behav', 'behind', 'bein', 'believ', 'beliv', 'bell', 'bellearli', 'belli', 'belliger', 'belong', 'belov', 'belovd', 'belt', 'ben', 'bend', 'beneath', 'beneficiari', 'benefit', 'benni', 'bergkamp', 'besid', 'best', 'bet', 'beta', 'beth', 'betta', 'better', 'bettersn', 'bettr', 'beverag', 'bevi', 'bewar', 'beyond', 'bf', 'bff', 'bfore', 'bhaji', 'bhamb', 'bhaskar', 'bhayandar', 'bian', 'biatch', 'bid', 'big', 'bigger', 'biggest', 'bike', 'bill', 'billi', 'billion', 'bilo', 'bimbo', 'bin', 'biola', 'bird', 'birla', 'biro', 'birth', 'birthdat', 'birthday', 'bishan', 'bit', 'bitch', 'bite', 'biz', 'bk', 'black', 'blackberri', 'blacko', 'blah', 'blake', 'blame', 'blank', 'blanket', 'blastin', 'bleak', 'bleh', 'bless', 'blimey', 'blind', 'block', 'blog', 'blogspot', 'bloke', 'blond', 'bloo', 'blood', 'bloodi', 'bloomberg', 'blow', 'blown', 'blu', 'blue', 'bluetooth', 'bluetoothhdset', 'bluff', 'blur', 'bluray', 'bmw', 'board', 'boat', 'boatin', 'bob', 'bodi', 'boggi', 'bognor', 'bold', 'bollox', 'boltblu', 'bomb', 'bone', 'bong', 'bonu', 'boo', 'boob', 'book', 'bookedth', 'bookmark', 'bookshelf', 'boooo', 'boost', 'booti', 'bootydeli', 'borderlin', 'bore', 'borin', 'born', 'borrow', 'boss', 'boston', 'bot', 'bother', 'bottl', 'bottom', 'bought', 'boundari', 'bout', 'bowa', 'bowl', 'box', 'boy', 'boyf', 'boyfriend', 'boytoy', 'bp', 'bpo', 'bra', 'brah', 'brain', 'braindanc', 'braini', 'brainless', 'brand', 'brandi', 'brat', 'brave', 'bray', 'brb', 'brdget', 'bread', 'breadstick', 'break', 'breaker', 'breakfast', 'breakin', 'breath', 'breather', 'breez', 'breezi', 'brekki', 'bremov', 'bribe', 'bridal', 'bridg', 'bridgwat', 'brief', 'bright', 'brighten', 'brilliant', 'brilliantli', 'brin', 'bring', 'brisk', 'brison', 'bristol', 'british', 'britney', 'bro', 'broad', 'broadband', 'broke', 'broken', 'brolli', 'broth', 'brotha', 'brother', 'brought', 'brown', 'browni', 'brows', 'browser', 'browsin', 'bruce', 'brum', 'bruv', 'bslvyl', 'bsn', 'bsnl', 'bstfrnd', 'bt', 'bthere', 'btw', 'btwn', 'bu', 'bubbletext', 'buck', 'bud', 'buddi', 'budget', 'buen', 'buff', 'buffet', 'buffi', 'bugi', 'build', 'built', 'bulb', 'bull', 'bullshit', 'bun', 'bunch', 'bundl', 'bunker', 'burden', 'burger', 'burgundi', 'burial', 'burn', 'burnt', 'burrito', 'buse', 'busetop', 'busi', 'busti', 'but', 'butt', 'butther', 'button', 'buy', 'buyer', 'buz', 'buzi', 'buzz', 'buzzzz', 'bw', 'bx', 'byatch', 'bye', 'cab', 'cabin', 'cabl', 'cafe', 'cage', 'cake', 'cal', 'calcul', 'cali', 'calicut', 'california', 'call', 'callback', 'callcost', 'calld', 'caller', 'callertun', 'callfreefon', 'callin', 'callon', 'calm', 'cam', 'camcord', 'came', 'camera', 'camp', 'campu', 'camri', 'canada', 'canal', 'canari', 'cancel', 'cancer', 'canlov', 'cann', 'cannam', 'cant', 'cantdo', 'canteen', 'cap', 'capac', 'capit', 'cappuccino', 'captain', 'car', 'card', 'cardiff', 'cardin', 'care', 'careabout', 'career', 'careless', 'carli', 'carlin', 'carlo', 'carolin', 'carolina', 'carpark', 'carri', 'carryin', 'carton', 'cartoon', 'case', 'cash', 'cashbin', 'cashto', 'cast', 'castor', 'casualti', 'cat', 'catch', 'categori', 'caught', 'caus', 'cave', 'caveboy', 'cbe', 'cc', 'ccna', 'cd', 'cdgt', 'cedar', 'ceil', 'celeb', 'celebr', 'cell', 'censu', 'center', 'centr', 'centuri', 'cer', 'cereal', 'ceri', 'certainli', 'certif', 'cfca', 'ch', 'cha', 'chachi', 'chad', 'chain', 'challeng', 'champ', 'champlaxig', 'champney', 'chanc', 'chang', 'channel', 'chap', 'chapel', 'chapter', 'charact', 'charg', 'chariti', 'charl', 'charli', 'charm', 'chart', 'chase', 'chastiti', 'chat', 'chatlin', 'chatter', 'cheap', 'cheaper', 'cheat', 'chechi', 'check', 'checkbox', 'checkin', 'checkmat', 'checkup', 'cheek', 'cheer', 'cheeri', 'chees', 'cheesi', 'cheeto', 'chef', 'chennai', 'chequ', 'cherish', 'cherthala', 'chess', 'chest', 'chex', 'cheyyamo', 'chez', 'chg', 'chic', 'chick', 'chicken', 'chief', 'chik', 'chikku', 'child', 'childish', 'childporn', 'children', 'chile', 'chill', 'chillaxin', 'chillin', 'china', 'chinatown', 'chinchilla', 'chines', 'chinki', 'chinnu', 'chiong', 'chip', 'chit', 'chk', 'chloe', 'chocol', 'choic', 'choos', 'chop', 'chord', 'chore', 'chosen', 'chrgd', 'christ', 'christian', 'christma', 'christmassi', 'chuck', 'chuckin', 'church', 'ciao', 'cine', 'cinema', 'citi', 'citizen', 'citylink', 'cktz', 'cl', 'cla', 'claim', 'claimcod', 'clair', 'clarif', 'clarifi', 'clark', 'clash', 'class', 'classic', 'classmat', 'claypot', 'cld', 'clean', 'clear', 'clearer', 'clearli', 'clever', 'click', 'cliff', 'clip', 'clo', 'clock', 'close', 'closebi', 'closer', 'closingd', 'cloth', 'cloud', 'clover', 'club', 'clubmobi', 'clubsaisai', 'clubz', 'clue', 'cm', 'cme', 'cmon', 'cn', 'cncl', 'cnl', 'cnn', 'cnupdat', 'co', 'coach', 'coast', 'coat', 'coax', 'coca', 'coccoon', 'cochin', 'cock', 'cocksuck', 'coco', 'code', 'coffe', 'coher', 'coimbator', 'coin', 'coincid', 'cola', 'colani', 'cold', 'colin', 'collag', 'collaps', 'colleagu', 'collect', 'colleg', 'color', 'colour', 'com', 'comb', 'combin', 'come', 'comedi', 'comfey', 'comfort', 'comin', 'comingdown', 'command', 'comment', 'commerci', 'commit', 'common', 'commun', 'como', 'comp', 'compani', 'companion', 'compar', 'compass', 'compens', 'competit', 'complac', 'complain', 'complaint', 'complementari', 'complet', 'complex', 'compliment', 'complimentari', 'comprehens', 'compromis', 'compulsori', 'comput', 'computerless', 'comuk', 'con', 'conact', 'concentr', 'concern', 'concert', 'conclus', 'condit', 'conduct', 'conect', 'confer', 'confid', 'configur', 'confirm', 'confirmd', 'conform', 'confus', 'congrat', 'congratul', 'connect', 'consensu', 'consent', 'conserv', 'consid', 'consist', 'consol', 'constant', 'constantli', 'contact', 'contain', 'content', 'contin', 'continu', 'contract', 'contribut', 'control', 'conveni', 'convers', 'convert', 'convey', 'convinc', 'cook', 'cooki', 'cool', 'coop', 'cooper', 'cop', 'cope', 'copi', 'corect', 'cornwal', 'corpor', 'corrct', 'correct', 'correctli', 'corrupt', 'corvett', 'cosign', 'cost', 'costa', 'costum', 'couch', 'cougar', 'cough', 'could', 'coulda', 'count', 'countin', 'countinlot', 'countri', 'coupl', 'coupla', 'courag', 'cours', 'court', 'courtroom', 'cousin', 'cover', 'coveragd', 'coz', 'cozi', 'cp', 'cr', 'crab', 'crack', 'craigslist', 'cram', 'cramp', 'crap', 'crash', 'crave', 'crazi', 'craziest', 'crazyin', 'crckt', 'cre', 'cream', 'creat', 'creativ', 'credit', 'creep', 'creepi', 'cri', 'cribb', 'cricket', 'crickit', 'crisi', 'cro', 'crore', 'cross', 'crowd', 'croydon', 'crucial', 'crucifi', 'cruel', 'cruis', 'cruisin', 'crush', 'cs', 'csbcm', 'csc', 'csh', 'cst', 'cstore', 'ct', 'ctagg', 'ctargg', 'cthen', 'ctla', 'cttargg', 'ctter', 'cttergg', 'ctxt', 'cu', 'cuck', 'cud', 'cuddl', 'cudnt', 'culdnt', 'cultur', 'cum', 'cumin', 'cup', 'cupboard', 'cuppa', 'curfew', 'curiou', 'current', 'curri', 'curtsey', 'cusoon', 'cust', 'custcar', 'custom', 'customercar', 'customersqueri', 'cut', 'cute', 'cutefrnd', 'cutest', 'cuti', 'cutter', 'cuz', 'cw', 'cya', 'cyclist', 'cyst', 'da', 'daaaaa', 'dabbl', 'dabook', 'dad', 'daddi', 'dai', 'daili', 'dammit', 'damn', 'dan', 'danc', 'dancc', 'dancin', 'dane', 'dang', 'danger', 'dao', 'dare', 'dark', 'darker', 'darkest', 'darl', 'darlin', 'darren', 'dartboard', 'dasara', 'dat', 'data', 'date', 'datebox', 'datz', 'dave', 'dawn', 'day', 'daytim', 'daywith', 'db', 'dbuk', 'dd', 'de', 'dead', 'deal', 'dealer', 'dear', 'dearer', 'dearli', 'death', 'debat', 'dec', 'decad', 'decemb', 'decent', 'decid', 'decim', 'decis', 'deck', 'declar', 'decor', 'dedic', 'deduct', 'deep', 'deepak', 'deepest', 'deer', 'deeraj', 'def', 'defeat', 'defer', 'defici', 'definit', 'definitli', 'defo', 'degre', 'dehydr', 'del', 'delay', 'delet', 'delhi', 'delici', 'deliv', 'deliveredtomorrow', 'deliveri', 'deltomorrow', 'delux', 'dem', 'demand', 'den', 'dena', 'dengra', 'deni', 'dent', 'dental', 'dentist', 'depart', 'depend', 'deposit', 'depress', 'dept', 'der', 'derek', 'derp', 'describ', 'descript', 'desert', 'deserv', 'desir', 'despar', 'desper', 'despit', 'detail', 'determin', 'detroit', 'deu', 'develop', 'devour', 'dey', 'dhina', 'dhoni', 'di', 'dial', 'diamond', 'dick', 'dictionari', 'didnt', 'die', 'diet', 'diff', 'differ', 'difficult', 'difficulti', 'dificult', 'digit', 'digniti', 'dime', 'din', 'dine', 'ding', 'dinner', 'dint', 'dippeditinadew', 'direct', 'directli', 'director', 'dirti', 'disast', 'disclos', 'disconnect', 'discount', 'discreet', 'discuss', 'dislik', 'display', 'distanc', 'distract', 'disturb', 'divis', 'divorc', 'diwali', 'dload', 'dnt', 'dobbi', 'doc', 'dock', 'doctor', 'doesn', 'doesnt', 'dog', 'doggi', 'doin', 'dokey', 'doll', 'dollar', 'don', 'donat', 'done', 'donno', 'dont', 'door', 'dorm', 'dot', 'doubl', 'doubt', 'dough', 'download', 'dr', 'dracula', 'draw', 'dream', 'dress', 'dresser', 'dri', 'drink', 'drinkin', 'drive', 'driver', 'drivin', 'drm', 'drop', 'drove', 'drpd', 'drug', 'drunk', 'drunken', 'dsn', 'dt', 'dubsack', 'duchess', 'dude', 'due', 'dumb', 'dun', 'dunno', 'durban', 'dvd', 'dx', 'ear', 'earli', 'earlier', 'earn', 'earth', 'easi', 'easier', 'easili', 'east', 'eastend', 'easter', 'eat', 'eaten', 'eatin', 'ebay', 'ec', 'edg', 'edison', 'edu', 'educ', 'edward', 'ee', 'eek', 'eeri', 'effect', 'eg', 'egg', 'eh', 'eight', 'eighth', 'eir', 'either', 'ela', 'elabor', 'elain', 'elect', 'electr', 'els', 'elsewher', 'em', 'email', 'embarass', 'emerg', 'empti', 'en', 'end', 'enemi', 'energi', 'eng', 'engag', 'engin', 'england', 'english', 'enjoy', 'enjoyin', 'enough', 'enter', 'entertain', 'entir', 'entitl', 'entri', 'enuff', 'envelop', 'environ', 'epsilon', 'er', 'ericsson', 'erm', 'error', 'escap', 'ese', 'especi', 'esplanad', 'essenti', 'essexcm', 'eta', 'etc', 'euro', 'eurodisinc', 'europ', 'eva', 'eve', 'eveb', 'even', 'event', 'ever', 'everi', 'everybodi', 'everyday', 'everyon', 'everyth', 'everywher', 'evn', 'evng', 'evr', 'evrey', 'evri', 'evrydi', 'ex', 'exact', 'exactli', 'exam', 'excel', 'except', 'excit', 'excus', 'exe', 'execut', 'exet', 'exhaust', 'exmpel', 'exorcist', 'expect', 'expens', 'experi', 'expir', 'explain', 'explicit', 'explos', 'expos', 'express', 'expressoff', 'extra', 'ey', 'eye', 'fa', 'fab', 'face', 'facebook', 'fact', 'faggi', 'fail', 'fair', 'faith', 'fake', 'fal', 'fall', 'famili', 'fan', 'fanci', 'fantasi', 'fantast', 'far', 'farm', 'fast', 'faster', 'fastest', 'fat', 'father', 'fathima', 'fault', 'fav', 'fave', 'favor', 'favorit', 'favour', 'favourit', 'fb', 'fear', 'feb', 'februari', 'fee', 'feel', 'feelin', 'feet', 'fell', 'felt', 'femal', 'fetch', 'fever', 'field', 'fifteen', 'fight', 'fightng', 'figur', 'fil', 'file', 'fill', 'film', 'filthi', 'final', 'financ', 'find', 'fine', 'finger', 'finish', 'fire', 'first', 'fish', 'fit', 'five', 'fix', 'fixedlin', 'fl', 'flag', 'flake', 'flaki', 'flame', 'flash', 'flat', 'fli', 'flight', 'flip', 'flirt', 'floor', 'flow', 'flower', 'fml', 'fo', 'foley', 'follow', 'fone', 'food', 'fool', 'foot', 'footbal', 'footi', 'footprint', 'forc', 'foreign', 'forev', 'forevr', 'forget', 'forgiv', 'forgiven', 'forgot', 'forgotten', 'form', 'formal', 'format', 'forum', 'forward', 'found', 'four', 'fr', 'fran', 'fraud', 'freak', 'free', 'freedom', 'freefon', 'freemsg', 'freephon', 'freez', 'fren', 'fret', 'fri', 'friday', 'friend', 'friendship', 'fring', 'frm', 'frnd', 'frndship', 'frog', 'fromm', 'front', 'fuck', 'fuckin', 'fujitsu', 'ful', 'full', 'fullonsm', 'fun', 'function', 'funer', 'funk', 'funki', 'funni', 'furnitur', 'fusion', 'futur', 'fuuuuck', 'fwd', 'fwiw', 'fyi', 'ga', 'gage', 'gail', 'gailxx', 'gain', 'gal', 'galileo', 'gam', 'gamb', 'game', 'gamestar', 'gandhipuram', 'ganesh', 'gang', 'gap', 'garag', 'garbag', 'garden', 'gari', 'garment', 'gastroenter', 'gate', 'gaug', 'gautham', 'gauti', 'gave', 'gay', 'gayl', 'gaytextbuddi', 'gaze', 'gb', 'gbp', 'gd', 'gdeve', 'ge', 'gee', 'geeee', 'geeeee', 'gei', 'gek', 'gender', 'gene', 'gener', 'geniu', 'gent', 'gentl', 'gentleman', 'gentli', 'genu', 'genuin', 'geoenvironment', 'georg', 'gep', 'ger', 'germani', 'get', 'gete', 'getha', 'geti', 'getsleep', 'getstop', 'gettin', 'getz', 'geva', 'gf', 'ghodbandar', 'ghost', 'gibb', 'gift', 'gim', 'gin', 'girl', 'girlfrnd', 'gist', 'giv', 'give', 'given', 'glad', 'gm', 'gn', 'gnt', 'go', 'goal', 'god', 'goe', 'goin', 'gold', 'goldvik', 'golf', 'gon', 'gona', 'gone', 'gong', 'gonnamissu', 'good', 'goodeven', 'goodfriend', 'goodi', 'goodmat', 'goodmorn', 'goodnight', 'goodnit', 'goodnoon', 'goodo', 'goodtim', 'googl', 'gopalettan', 'gorgeou', 'gossip', 'got', 'goto', 'gotten', 'govt', 'gpr', 'gpu', 'gr', 'grab', 'grace', 'graduat', 'grahmbel', 'gram', 'gran', 'grand', 'grandfath', 'grandma', 'granit', 'grant', 'graphic', 'grasp', 'grate', 'grave', 'gravel', 'gravi', 'graviti', 'gray', 'graze', 'gre', 'great', 'greatest', 'greatli', 'greec', 'green', 'greet', 'grief', 'grin', 'grinder', 'grinul', 'grl', 'grocer', 'groov', 'groovi', 'ground', 'group', 'grow', 'grown', 'grownup', 'grr', 'grumbl', 'grumpi', 'gsex', 'gsoh', 'gt', 'gthr', 'gua', 'guai', 'guarante', 'gucci', 'gud', 'gudni', 'gudnit', 'gudnyt', 'guess', 'guessin', 'guid', 'guidanc', 'guild', 'guilti', 'guitar', 'gumbi', 'guoyang', 'gurl', 'gut', 'guy', 'gv', 'gving', 'gym', 'gymnast', 'gyna', 'gyno', 'ha', 'habba', 'habit', 'hack', 'haf', 'haha', 'hahaha', 'hai', 'hail', 'hair', 'haircut', 'hairdress', 'haiyoh', 'haiz', 'half', 'hall', 'halla', 'hallaq', 'halloween', 'ham', 'hamper', 'hamster', 'hand', 'handl', 'handset', 'handsom', 'hang', 'hanger', 'hangin', 'hank', 'hannaford', 'hanuman', 'hanumanji', 'happen', 'happend', 'happenin', 'happi', 'happier', 'happiest', 'happili', 'hard', 'hardcor', 'harder', 'hardest', 'hardli', 'hari', 'harish', 'harlem', 'harri', 'hasbro', 'hasnt', 'hassl', 'hat', 'hate', 'haughaighgtujhyguj', 'haul', 'haunt', 'hav', 'hava', 'havbeen', 'havebeen', 'havent', 'haventcn', 'havin', 'havn', 'havnt', 'hb', 'hcl', 'hdd', 'he', 'head', 'headach', 'headin', 'headset', 'headstart', 'heal', 'healer', 'healthi', 'heap', 'hear', 'heard', 'hearin', 'heart', 'heat', 'heater', 'heaven', 'heavi', 'heavili', 'hectic', 'hee', 'heehe', 'hehe', 'height', 'held', 'helen', 'hell', 'hella', 'hello', 'hellogorg', 'helloooo', 'help', 'helplin', 'heltini', 'hen', 'henc', 'henri', 'hep', 'hero', 'heron', 'hesit', 'hex', 'hey', 'hf', 'hg', 'hhahhaahahah', 'hi', 'hidden', 'hide', 'high', 'highest', 'hilari', 'hill', 'hillsborough', 'himso', 'hint', 'hip', 'hiphop', 'hire', 'histori', 'hit', 'hitler', 'hiya', 'hl', 'hlp', 'hm', 'hmm', 'hmmm', 'hmv', 'ho', 'hockey', 'hol', 'hold', 'holder', 'holi', 'holiday', 'holla', 'home', 'homeown', 'hon', 'honey', 'honeybe', 'hook', 'hop', 'hope', 'hor', 'horni', 'horo', 'horribl', 'hospit', 'hostel', 'hot', 'hotel', 'hour', 'hous', 'housew', 'how', 'howard', 'howev', 'howz', 'hp', 'hppnss', 'hr', 'hrishi', 'hsbc', 'http', 'hubbi', 'hug', 'huge', 'huh', 'human', 'hun', 'hundr', 'hungri', 'hunni', 'hunt', 'hurri', 'hurt', 'husband', 'hv', 'hw', 'hyde', 'ia', 'iam', 'ibh', 'ibhltd', 'ibiza', 'ibn', 'ic', 'ice', 'icicibank', 'id', 'idea', 'ideal', 'identifi', 'idew', 'idiot', 'idk', 'ignor', 'ikea', 'il', 'ill', 'im', 'imag', 'imagin', 'imma', 'immedi', 'imp', 'impati', 'import', 'imposs', 'impress', 'improv', 'inc', 'inch', 'incid', 'includ', 'inclus', 'inconsider', 'inconveni', 'incred', 'increment', 'inde', 'independ', 'index', 'india', 'indian', 'indic', 'individu', 'indyarock', 'infect', 'infern', 'info', 'inform', 'infront', 'ing', 'inning', 'innoc', 'inr', 'insha', 'inshah', 'insid', 'instal', 'instantli', 'instead', 'instituit', 'instruct', 'insur', 'intellig', 'intent', 'interest', 'interflora', 'internet', 'interview', 'intro', 'invad', 'invest', 'invit', 'invnt', 'involv', 'iouri', 'ip', 'ipad', 'ipod', 'iq', 'iron', 'irrit', 'iscom', 'ish', 'island', 'isnt', 'issu', 'italian', 'itcould', 'item', 'itwhichturnedinto', 'itz', 'ive', 'iz', 'izzit', 'ja', 'jacket', 'jackpot', 'jada', 'jame', 'jamster', 'jan', 'jane', 'januari', 'japanes', 'jason', 'java', 'jay', 'jaya', 'jazz', 'jd', 'jealou', 'jean', 'jen', 'jenni', 'jerri', 'jess', 'jesu', 'jhl', 'jia', 'jiayin', 'jiu', 'jo', 'joanna', 'job', 'jog', 'john', 'join', 'joke', 'jokin', 'jolli', 'jolt', 'jordan', 'journey', 'joy', 'js', 'jsco', 'jst', 'jstfrnd', 'jsut', 'ju', 'juan', 'juici', 'juli', 'june', 'juz', 'kadeem', 'kaiez', 'kalli', 'kano', 'kappa', 'karaok', 'kate', 'kavalan', 'kay', 'kb', 'ke', 'keep', 'kegger', 'kent', 'kept', 'kerala', 'keralacircl', 'kettoda', 'key', 'kg', 'kick', 'kickoff', 'kid', 'kidz', 'kill', 'kind', 'kinda', 'kindli', 'king', 'kiosk', 'kiss', 'kl', 'knacker', 'knee', 'knew', 'knock', 'know', 'knw', 'konw', 'kothi', 'kr', 'kudi', 'kusruthi', 'kz', 'la', 'lab', 'lac', 'ladi', 'lag', 'laid', 'land', 'landlin', 'lane', 'langport', 'languag', 'laptop', 'lar', 'largest', 'last', 'late', 'later', 'latest', 'latr', 'laugh', 'laundri', 'law', 'lay', 'lazi', 'lccltd', 'ldew', 'ldn', 'ldnw', 'le', 'lead', 'learn', 'least', 'leav', 'lect', 'lectur', 'left', 'leg', 'legal', 'leh', 'lei', 'lem', 'length', 'leona', 'less', 'lesson', 'let', 'letter', 'lf', 'liao', 'lib', 'librari', 'lick', 'lido', 'lie', 'life', 'lifetim', 'lifpartnr', 'lift', 'light', 'lik', 'like', 'lil', 'lili', 'limit', 'line', 'linerent', 'link', 'lion', 'lionm', 'lionp', 'lip', 'list', 'listen', 'liter', 'littl', 'live', 'liverpool', 'lk', 'lmao', 'lo', 'load', 'loan', 'local', 'locat', 'lock', 'lodg', 'log', 'login', 'logo', 'lol', 'london', 'lone', 'long', 'longer', 'look', 'lookatm', 'lookin', 'loos', 'lor', 'lose', 'loss', 'lost', 'lot', 'lotr', 'lotta', 'lou', 'loud', 'loung', 'lousi', 'lov', 'lovabl', 'love', 'lovejen', 'lovem', 'lover', 'loverboy', 'lovingli', 'low', 'lower', 'loxahatche', 'loyal', 'loyalti', 'lp', 'ls', 'lst', 'lt', 'ltd', 'lttr', 'luci', 'luck', 'lucki', 'lucozad', 'lunch', 'lush', 'luv', 'lux', 'luxuri', 'lv', 'lvblefrnd', 'lyf', 'lyfu', 'lyk', 'ma', 'maangalyam', 'mac', 'machan', 'macho', 'mad', 'madam', 'made', 'mag', 'maga', 'magic', 'mah', 'mahal', 'maid', 'mail', 'mailbox', 'main', 'maintain', 'major', 'make', 'makin', 'malaria', 'male', 'mall', 'man', 'manag', 'manda', 'mandan', 'maneesha', 'mani', 'map', 'march', 'margaret', 'mark', 'market', 'marri', 'marriag', 'marrow', 'massag', 'massiv', 'master', 'match', 'mate', 'math', 'mathemat', 'matrix', 'matter', 'matur', 'max', 'maxim', 'may', 'mayb', 'mb', 'mca', 'mcat', 'mcfli', 'mcr', 'meal', 'mean', 'meaning', 'meaningless', 'meant', 'meanwhil', 'measur', 'meat', 'meatbal', 'mecaus', 'med', 'medic', 'medicin', 'mee', 'meet', 'meetin', 'meg', 'mega', 'meh', 'mei', 'meiv', 'mel', 'mell', 'melnit', 'melodi', 'melt', 'member', 'membership', 'memor', 'memori', 'men', 'mental', 'mention', 'mentor', 'menu', 'meow', 'mere', 'merememberin', 'merri', 'mesag', 'mess', 'messag', 'messeng', 'messi', 'met', 'method', 'mf', 'mfl', 'mg', 'mi', 'mia', 'michael', 'mid', 'middl', 'midnight', 'might', 'miiiiiiissssssssss', 'mike', 'mila', 'mile', 'mileag', 'milk', 'miller', 'million', 'milta', 'min', 'mina', 'minapn', 'mind', 'mindset', 'mine', 'minecraft', 'mini', 'minimum', 'minmobsmor', 'minmobsmorelkpobox', 'minmoremobsemspobox', 'minnaminungint', 'minor', 'mint', 'minu', 'minut', 'miracl', 'mirror', 'misbehav', 'mise', 'miser', 'misfit', 'misplac', 'miss', 'misscal', 'missi', 'missin', 'mission', 'missionari', 'misss', 'missunderstd', 'mist', 'mistak', 'misundrstud', 'mite', 'mitsak', 'mittelschmertz', 'miwa', 'mix', 'mj', 'mjzgroup', 'mk', 'ml', 'mm', 'mmm', 'mmmm', 'mmmmm', 'mmmmmm', 'mmmmmmm', 'mmsto', 'mn', 'mnth', 'mo', 'moan', 'mob', 'mobcudb', 'mobi', 'mobil', 'mobilesdirect', 'mobilesvari', 'mobileupd', 'mobno', 'mobsi', 'mobstorequiz', 'mobypobox', 'mode', 'model', 'modl', 'modul', 'mofo', 'moji', 'mojibiola', 'mokka', 'molest', 'mom', 'moment', 'mon', 'monday', 'mone', 'money', 'monkeespeopl', 'monkey', 'monkeyaround', 'mono', 'monoc', 'monster', 'month', 'monthli', 'monthlysubscript', 'mood', 'moon', 'moral', 'morefrmmob', 'morn', 'mornin', 'moro', 'morow', 'morphin', 'morro', 'morrow', 'morrowxxxx', 'moseley', 'mostli', 'mother', 'motherfuck', 'motiv', 'motor', 'motorola', 'mountain', 'mous', 'mouth', 'move', 'movi', 'movietrivia', 'mp', 'mph', 'mquiz', 'mr', 'mre', 'mrng', 'mro', 'mrt', 'mrw', 'ms', 'msg', 'msging', 'msgrcvd', 'msgrcvdhg', 'msn', 'mt', 'mtalk', 'mth', 'mtmsg', 'mtmsgrcvd', 'mtnl', 'mu', 'muah', 'much', 'muchand', 'muchxxlov', 'mudyadhu', 'mufti', 'muhommad', 'muht', 'multi', 'multimedia', 'multipli', 'mum', 'mumbai', 'mumha', 'mummi', 'mumtaz', 'mundh', 'munster', 'murali', 'murder', 'mush', 'mushi', 'music', 'musicnew', 'must', 'musthu', 'muz', 'mysteri', 'na', 'nag', 'nagar', 'nah', 'nahi', 'nake', 'nalla', 'nalli', 'name', 'nammanna', 'namou', 'nan', 'nang', 'nanni', 'nap', 'narcot', 'nasdaq', 'naseeb', 'nasti', 'nat', 'natali', 'natalja', 'nation', 'nationwid', 'nattil', 'natur', 'natwest', 'naughti', 'nauseou', 'nav', 'nb', 'nd', 'ne', 'near', 'nearli', 'necessari', 'necessarili', 'neck', 'necklac', 'ned', 'need', 'neft', 'neighbor', 'neighbour', 'neither', 'nervou', 'net', 'netcollex', 'network', 'neva', 'never', 'new', 'neway', 'newest', 'news', 'next', 'ni', 'nic', 'nice', 'nichol', 'nick', 'nickey', 'nicki', 'nig', 'nigeria', 'nigh', 'night', 'nighter', 'nightnight', 'nigpun', 'nigro', 'nike', 'nikiyu', 'nimbomson', 'nimya', 'ninish', 'nino', 'nipost', 'nit', 'nite', 'nitro', 'nitw', 'nitz', 'njan', 'nmde', 'nnfwfli', 'no', 'nob', 'nobodi', 'noe', 'noi', 'noic', 'nois', 'noisi', 'nok', 'nokia', 'nolin', 'non', 'noncomitt', 'none', 'nonetheless', 'nookii', 'noon', 'nooooooo', 'noooooooo', 'nope', 'nora', 'norcorp', 'nordstrom', 'norm', 'normal', 'north', 'northampton', 'nose', 'nosh', 'nosi', 'note', 'notebook', 'noth', 'nothin', 'notic', 'notif', 'notifi', 'notixiqu', 'nottingham', 'notxt', 'noun', 'novelti', 'novemb', 'nowaday', 'nowher', 'noworriesloan', 'nr', 'nri', 'nt', 'nte', 'ntimat', 'ntt', 'ntwk', 'nu', 'nuclear', 'nudist', 'nuerologist', 'num', 'number', 'nurs', 'nurseri', 'nurungu', 'nusstu', 'nuther', 'nutter', 'nver', 'nvm', 'nvq', 'nw', 'nxt', 'ny', 'nyc', 'nydc', 'nyt', 'nytho', 'nz', 'oath', 'obedi', 'obes', 'obey', 'object', 'obl', 'oblising', 'oblivi', 'obvious', 'occas', 'occupi', 'occur', 'ocean', 'oclock', 'odi', 'offer', 'offic', 'offici', 'ofic', 'often', 'oh', 'oi', 'oic', 'oil', 'ok', 'okay', 'okey', 'oki', 'ola', 'old', 'omg', 'omw', 'one', 'oni', 'onion', 'onlin', 'onto', 'onward', 'oooh', 'oop', 'open', 'oper', 'opinion', 'opportun', 'opt', 'option', 'optout', 'orang', 'orchard', 'order', 'oredi', 'oreo', 'orig', 'origin', 'oru', 'os', 'oso', 'other', 'otherwis', 'otsid', 'outag', 'outsid', 'outstand', 'outta', 'ovul', 'ow', 'owe', 'own', 'oz', 'pa', 'pack', 'packag', 'page', 'paid', 'pain', 'paint', 'pale', 'pan', 'pandi', 'panic', 'pap', 'paper', 'paperwork', 'paragon', 'parco', 'parent', 'pari', 'park', 'part', 'parti', 'partner', 'partnership', 'pass', 'passion', 'password', 'past', 'path', 'pattern', 'patti', 'pay', 'paye', 'payment', 'payoh', 'pc', 'peac', 'peak', 'pee', 'pen', 'penc', 'pend', 'peni', 'peopl', 'per', 'percent', 'perfect', 'perform', 'perhap', 'period', 'permiss', 'person', 'perwksub', 'pete', 'petey', 'petrol', 'pg', 'ph', 'philosophi', 'phne', 'phoenix', 'phone', 'photo', 'php', 'pic', 'pick', 'pickl', 'picsfre', 'pictur', 'pie', 'piec', 'pig', 'pilat', 'pimpl', 'pin', 'pink', 'piss', 'pix', 'pizza', 'pl', 'place', 'placement', 'plan', 'plane', 'planet', 'play', 'player', 'plaza', 'pleas', 'pleasur', 'plenti', 'plm', 'plu', 'plz', 'pm', 'po', 'pobox', 'pocketbab', 'pod', 'poem', 'point', 'poker', 'pole', 'poli', 'polic', 'politician', 'polo', 'polyh', 'polyph', 'polyphon', 'pongal', 'pool', 'poop', 'poor', 'pop', 'popcorn', 'porn', 'posit', 'possess', 'possibl', 'post', 'postcard', 'postcod', 'potato', 'potenti', 'potter', 'pouch', 'pound', 'pour', 'pout', 'power', 'pp', 'ppermesssubscript', 'ppl', 'pple', 'ppm', 'ppmx', 'ppw', 'prabha', 'practic', 'pray', 'pre', 'predict', 'prefer', 'prem', 'premier', 'premium', 'prepaid', 'prepar', 'prepay', 'prescript', 'present', 'press', 'pretti', 'previou', 'previous', 'prey', 'price', 'pride', 'princ', 'princess', 'print', 'priscilla', 'privaci', 'privat', 'prize', 'pro', 'prob', 'probabl', 'problem', 'process', 'prof', 'professor', 'profil', 'profit', 'program', 'project', 'prolli', 'promis', 'promo', 'promot', 'prompt', 'proof', 'properli', 'properti', 'propos', 'propsd', 'prospect', 'protect', 'prove', 'proverb', 'provid', 'ps', 'pt', 'ptbo', 'pub', 'public', 'pull', 'punish', 'purchas', 'puriti', 'purpos', 'purs', 'push', 'pussi', 'put', 'puttin', 'pw', 'px', 'qatar', 'qp', 'qu', 'qualiti', 'que', 'queen', 'question', 'quick', 'quickli', 'quiet', 'quit', 'quiz', 'quot', 'qxj', 'ra', 'race', 'radio', 'rael', 'railway', 'rain', 'rais', 'raj', 'raji', 'rakhesh', 'ralli', 'ran', 'randi', 'random', 'randomli', 'rang', 'ranjith', 'rate', 'rather', 'ray', 'rcv', 'rcvd', 'rd', 'reach', 'reaction', 'read', 'reader', 'readi', 'real', 'reali', 'realis', 'realiti', 'realiz', 'realli', 'reason', 'reassur', 'reboot', 'rec', 'recd', 'receipt', 'receiv', 'receivea', 'recent', 'recess', 'recharg', 'reckon', 'recognis', 'record', 'recoveri', 'red', 'redeem', 'reduc', 'ref', 'refer', 'refil', 'refund', 'refus', 'reg', 'regard', 'regist', 'regret', 'regular', 'rel', 'relat', 'relax', 'releas', 'rem', 'remain', 'rememb', 'remembr', 'remind', 'remov', 'renew', 'rent', 'rental', 'rentl', 'repair', 'repeat', 'replac', 'repli', 'report', 'repres', 'request', 'requir', 'research', 'reserv', 'respect', 'responc', 'respond', 'respons', 'rest', 'restaur', 'restock', 'restrict', 'result', 'resum', 'retriev', 'return', 'reveal', 'revers', 'review', 'revis', 'reward', 'rg', 'rgd', 'rhythm', 'rice', 'rich', 'ride', 'right', 'rightli', 'ring', 'rington', 'ringtonek', 'rip', 'risk', 'rite', 'river', 'road', 'roast', 'rob', 'rock', 'rofl', 'roger', 'role', 'romant', 'ron', 'room', 'roommat', 'rose', 'rough', 'round', 'row', 'royal', 'rpli', 'rr', 'rs', 'rstm', 'ru', 'rub', 'rude', 'ruin', 'rule', 'rum', 'rumour', 'run', 'rush', 'rw', 'ryan', 'sac', 'sachin', 'sack', 'sacrific', 'sad', 'sae', 'safe', 'said', 'sake', 'salam', 'salari', 'sale', 'salon', 'sam', 'santa', 'sar', 'sarasota', 'sarcasm', 'sarcast', 'sari', 'sat', 'sathya', 'satisfi', 'saturday', 'sauci', 'savamob', 'save', 'saw', 'say', 'scare', 'scari', 'sch', 'schedul', 'school', 'scienc', 'scold', 'score', 'scotch', 'scotland', 'scotsman', 'scous', 'scrappi', 'scratch', 'scream', 'screen', 'screwd', 'scroung', 'scrumptiou', 'sculptur', 'sd', 'sday', 'sdryb', 'se', 'sea', 'search', 'season', 'seat', 'sec', 'second', 'secondari', 'secret', 'secretari', 'secretli', 'section', 'secur', 'sed', 'see', 'seed', 'seek', 'seeker', 'seem', 'seen', 'sef', 'seh', 'sehwag', 'select', 'self', 'selfindepend', 'selfish', 'selfless', 'sell', 'sem', 'semest', 'semi', 'semiobscur', 'sen', 'send', 'sender', 'senor', 'senrd', 'sens', 'sensibl', 'sensit', 'sent', 'sentenc', 'senthil', 'sentiment', 'seper', 'sept', 'septemb', 'serena', 'seri', 'seriou', 'serious', 'serv', 'server', 'servic', 'set', 'settl', 'seven', 'seventeen', 'sever', 'sex', 'sexi', 'sexiest', 'sextextuk', 'sexual', 'sexychat', 'sez', 'sf', 'sg', 'sh', 'sha', 'shade', 'shadow', 'shag', 'shah', 'shahjahan', 'shakara', 'shake', 'shakespear', 'shall', 'shame', 'shampain', 'shangela', 'shanghai', 'shanil', 'shant', 'shape', 'share', 'shatter', 'shave', 'shb', 'shd', 'she', 'sheet', 'sheffield', 'shelf', 'shell', 'shelv', 'sherawat', 'shesil', 'shexi', 'shhhhh', 'shi', 'shifad', 'shija', 'shijutta', 'shinco', 'shindig', 'shine', 'shini', 'ship', 'shirt', 'shit', 'shite', 'shitin', 'shitinnit', 'shitload', 'shitstorm', 'shivratri', 'shld', 'shldxxxx', 'shock', 'shoe', 'shola', 'shoot', 'shop', 'shoppin', 'shoranur', 'shore', 'short', 'shortag', 'shortbreak', 'shortcod', 'shorter', 'shortli', 'shot', 'shoul', 'shoulder', 'shout', 'shove', 'show', 'shower', 'showr', 'showroom', 'shracomorsglsuplt', 'shrek', 'shrink', 'shrub', 'shsex', 'shu', 'shud', 'shudvetold', 'shuhui', 'shun', 'shut', 'si', 'sian', 'sib', 'sic', 'sick', 'side', 'sigh', 'sight', 'sign', 'signal', 'signific', 'signin', 'siguviri', 'silenc', 'silent', 'silli', 'silver', 'sim', 'simonwatson', 'simpl', 'simpler', 'simpli', 'simpson', 'simul', 'sinc', 'sinco', 'sindu', 'sing', 'singapor', 'singl', 'sink', 'sip', 'sipix', 'sir', 'sirji', 'sister', 'sit', 'site', 'sitll', 'sitter', 'sittin', 'situat', 'siva', 'six', 'size', 'sk', 'skateboard', 'skilgm', 'skill', 'skillgam', 'skin', 'skinni', 'skint', 'skip', 'skirt', 'sky', 'skye', 'skype', 'skyve', 'slaaaaav', 'slack', 'slap', 'slave', 'sleep', 'sleepi', 'sleepin', 'sleepingwith', 'sleepwel', 'slept', 'slice', 'slide', 'slightli', 'slip', 'slipper', 'slipperi', 'slo', 'slob', 'slot', 'slove', 'slow', 'slower', 'slowli', 'slp', 'slurp', 'sm', 'smack', 'small', 'smaller', 'smart', 'smartcal', 'smarter', 'smash', 'smear', 'smell', 'smeon', 'smidgin', 'smile', 'smiley', 'smith', 'smoke', 'smokin', 'smoothli', 'smsco', 'smsing', 'smsreward', 'smsservic', 'smth', 'sn', 'snake', 'snap', 'snappi', 'snatch', 'snd', 'sneham', 'snicker', 'snog', 'snore', 'snot', 'snow', 'snowbal', 'snowboard', 'snowman', 'snuggl', 'so', 'soc', 'socht', 'social', 'sofa', 'soft', 'softwar', 'soil', 'soire', 'sol', 'soladha', 'sold', 'solihul', 'solv', 'somebodi', 'someday', 'someon', 'someonon', 'someplac', 'somerset', 'sometext', 'someth', 'somethin', 'sometim', 'sometm', 'somewhat', 'somewher', 'somewheresomeon', 'somewhr', 'somon', 'somtim', 'sonathaya', 'sonetim', 'song', 'soni', 'sonyericsson', 'soo', 'soon', 'sooner', 'soonlot', 'sooo', 'soooo', 'sooooo', 'sopha', 'sore', 'sori', 'sorri', 'sorrow', 'sort', 'sorta', 'soryda', 'soul', 'sound', 'soundtrack', 'soup', 'sourc', 'south', 'southern', 'souveni', 'soz', 'sozi', 'sp', 'space', 'spacebuck', 'spageddi', 'spain', 'spam', 'spanish', 'spare', 'spark', 'sparkl', 'spatula', 'speak', 'spec', 'special', 'specialis', 'specif', 'specifi', 'speechless', 'speed', 'speedchat', 'spele', 'spell', 'spend', 'spent', 'sphost', 'spi', 'spice', 'spider', 'spif', 'spile', 'spin', 'spinout', 'spiral', 'spirit', 'spiritu', 'spjanuari', 'spk', 'spl', 'splash', 'splashmobil', 'splat', 'splendid', 'split', 'splle', 'spoil', 'spoilt', 'spoke', 'spoken', 'sponsor', 'spontan', 'spook', 'spoon', 'sporad', 'sport', 'sportsx', 'spose', 'spot', 'spotti', 'spous', 'sppok', 'spreadsheet', 'spree', 'spring', 'sprint', 'sptv', 'spun', 'sq', 'squat', 'squeeeeez', 'squeez', 'squid', 'squishi', 'sr', 'sri', 'srsli', 'srt', 'ss', 'st', 'stabil', 'stabl', 'stadium', 'staff', 'stage', 'stagwood', 'stair', 'stalk', 'stamp', 'stand', 'standard', 'stapati', 'star', 'stare', 'starer', 'starshin', 'start', 'starv', 'starwar', 'stash', 'state', 'statement', 'station', 'statu', 'stay', 'stayin', 'stchoic', 'std', 'stdtxtrate', 'steak', 'steal', 'steam', 'steamboat', 'steed', 'steer', 'step', 'stereo', 'stereophon', 'sterl', 'sterm', 'steve', 'stewarts', 'steyn', 'sth', 'stick', 'sticki', 'stifl', 'stil', 'still', 'stink', 'stitch', 'stock', 'stockport', 'stolen', 'stomach', 'stomp', 'stone', 'stoner', 'stool', 'stop', 'stopbcm', 'stopc', 'stopcost', 'stopsm', 'stoptx', 'stoptxt', 'stoptxtstop', 'store', 'stori', 'storm', 'str', 'straight', 'strain', 'strang', 'stranger', 'stream', 'street', 'stress', 'stressful', 'stretch', 'strewn', 'strict', 'strike', 'string', 'strip', 'stripe', 'stroke', 'strong', 'strongli', 'strt', 'strtd', 'struggl', 'stu', 'stubborn', 'stuck', 'studdi', 'student', 'studentfinanci', 'studi', 'studio', 'studyn', 'stuf', 'stuff', 'stun', 'stupid', 'style', 'stylish', 'stylist', 'sub', 'subject', 'sublet', 'submit', 'subpoli', 'subscrib', 'subscript', 'subscriptn', 'subscrit', 'subsequ', 'subtoitl', 'success', 'suck', 'sucker', 'sudden', 'suddenli', 'sudn', 'sue', 'suffer', 'suffici', 'sugabab', 'suganya', 'sugar', 'sugardad', 'suggest', 'suit', 'suitem', 'sullivan', 'sum', 'suman', 'sumf', 'summer', 'summon', 'sumthin', 'sun', 'sunday', 'sundayish', 'sunlight', 'sunni', 'sunoco', 'sunroof', 'sunscreen', 'sunshin', 'suntec', 'sup', 'super', 'superb', 'superior', 'supervisor', 'supli', 'supos', 'suppli', 'supplier', 'support', 'suppos', 'suprem', 'suprman', 'sura', 'sure', 'surf', 'surgic', 'surli', 'surnam', 'surpris', 'surrend', 'surround', 'survey', 'surya', 'sutra', 'sux', 'suzi', 'svc', 'sw', 'swalpa', 'swan', 'swann', 'swap', 'swashbuckl', 'swat', 'swatch', 'sway', 'swayz', 'swear', 'sweater', 'sweatter', 'sweet', 'sweetest', 'sweetheart', 'sweeti', 'swell', 'swhrt', 'swim', 'swimsuit', 'swing', 'swiss', 'switch', 'swollen', 'swoop', 'swt', 'swtheart', 'syd', 'syllabu', 'symbol', 'sympathet', 'symptom', 'sync', 'syria', 'syrup', 'system', 'ta', 'tabl', 'tablet', 'tackl', 'taco', 'tact', 'tactless', 'tag', 'tahan', 'tai', 'tait', 'taj', 'taka', 'take', 'takecar', 'taken', 'takin', 'talent', 'talk', 'talkbut', 'talkin', 'tall', 'tallahasse', 'tallent', 'tamilnadu', 'tampa', 'tank', 'tantrum', 'tap', 'tape', 'tariff', 'tarot', 'tarpon', 'tast', 'tat', 'tata', 'tattoo', 'tau', 'taught', 'taunton', 'tax', 'taxi', 'taxless', 'taxt', 'taylor', 'tayseer', 'tb', 'tc', 'tcr', 'tddnewslett', 'te', 'tea', 'teach', 'teacher', 'team', 'tear', 'teas', 'tech', 'technic', 'technolog', 'tee', 'teenag', 'teeth', 'teju', 'tel', 'telediscount', 'telephon', 'teletext', 'tell', 'telli', 'tellmiss', 'telphon', 'telugu', 'temal', 'temp', 'temper', 'templ', 'ten', 'tenant', 'tendenc', 'tenerif', 'tens', 'tension', 'teresa', 'term', 'termin', 'termsappli', 'ternal', 'terri', 'terribl', 'terrif', 'terror', 'terrorist', 'tesco', 'tessi', 'test', 'tex', 'texa', 'texd', 'text', 'textand', 'textbook', 'textbuddi', 'textcomp', 'textin', 'textoper', 'textpod', 'tf', 'tg', 'tgxxrz', 'th', 'thandiyachu', 'thangam', 'thank', 'thanksgiv', 'thanku', 'thankyou', 'thanx', 'thasa', 'that', 'thatmum', 'theacus', 'theater', 'theatr', 'thecd', 'thedailydraw', 'thekingshead', 'theme', 'themob', 'thenampet', 'theoret', 'theori', 'theplac', 'thepub', 'there', 'theseday', 'thesi', 'thesmszon', 'thet', 'thew', 'theyr', 'thfeb', 'thgt', 'thi', 'thia', 'thin', 'thing', 'think', 'thinkin', 'thinkthi', 'thinl', 'thirtyeight', 'thirunelvali', 'thk', 'thkin', 'thm', 'thmarch', 'thnk', 'thnov', 'thnq', 'thnx', 'tho', 'thot', 'thou', 'though', 'thought', 'thousad', 'thousand', 'thout', 'thread', 'threat', 'three', 'threw', 'thriller', 'throat', 'throw', 'throwin', 'thrown', 'thru', 'tht', 'thu', 'thuglyf', 'thur', 'thursday', 'thx', 'ti', 'tick', 'ticket', 'tie', 'tiempo', 'tiger', 'tight', 'tightli', 'tigress', 'tih', 'tiim', 'til', 'till', 'tim', 'time', 'timi', 'timin', 'tini', 'tip', 'tire', 'tirunelvai', 'tirunelvali', 'tirupur', 'tissco', 'titl', 'tiwari', 'tix', 'tiz', 'tke', 'tkl', 'tkt', 'tlk', 'tlp', 'tm', 'tming', 'tmorow', 'tmorrow', 'tmr', 'tmrw', 'tmw', 'tnc', 'toa', 'toaday', 'tobacco', 'tobe', 'tocal', 'toclaim', 'today', 'todo', 'tog', 'togeth', 'tohar', 'toilet', 'tok', 'toke', 'token', 'tol', 'told', 'toledo', 'toler', 'tolerat', 'toll', 'tom', 'tomarrow', 'tome', 'tomeandsaid', 'tomo', 'tomorro', 'tomorrow', 'tomorw', 'ton', 'tone', 'tonex', 'tonght', 'tongu', 'tonight', 'tonit', 'tonsolitusaswel', 'took', 'tookplac', 'tool', 'tooo', 'toot', 'tooth', 'toothpast', 'tootsi', 'top', 'topic', 'toplay', 'toppoli', 'tor', 'torch', 'torrent', 'tortilla', 'tortur', 'tosend', 'toshiba', 'toss', 'tot', 'total', 'tote', 'touch', 'tough', 'toughest', 'tour', 'toward', 'town', 'toxic', 'toyota', 'tp', 'tr', 'track', 'trackmarqu', 'trade', 'tradit', 'traffic', 'train', 'trainner', 'tram', 'tranquil', 'transact', 'transcrib', 'transfer', 'transfr', 'transport', 'trash', 'trauma', 'trav', 'travel', 'treacl', 'treadmil', 'treasur', 'treat', 'treatin', 'trebl', 'tree', 'trek', 'trend', 'tri', 'trial', 'trip', 'tripl', 'trishul', 'triumph', 'trivia', 'tron', 'troubl', 'troubleshoot', 'trouser', 'trubl', 'truck', 'true', 'truffl', 'truli', 'truro', 'trust', 'truth', 'tryin', 'ts', 'tsandc', 'tsc', 'tsunami', 'tt', 'ttyl', 'tue', 'tuesday', 'tui', 'tuition', 'tul', 'tulip', 'tulsi', 'tund', 'tune', 'tunji', 'turkey', 'turn', 'tuth', 'tv', 'twat', 'twelv', 'twenti', 'twice', 'twigg', 'twilight', 'twin', 'twink', 'twitter', 'two', 'tx', 'txt', 'txtauction', 'txtin', 'txting', 'txtno', 'txtstar', 'txtstop', 'txttowin', 'txtx', 'tyler', 'type', 'typic', 'tyron', 'uawak', 'ubandu', 'ubi', 'ud', 'ugadi', 'ugh', 'ugo', 'uh', 'uhhhhrmm', 'uin', 'ujhhhhhhh', 'uk', 'ukp', 'ultim', 'ultimatum', 'um', 'umma', 'ummifi', 'ummma', 'ummmmmaah', 'un', 'unabl', 'unbeliev', 'unbreak', 'uncl', 'unclaim', 'uncomfort', 'uncondit', 'unconsci', 'unconvinc', 'uncount', 'uncut', 'underdtand', 'understand', 'understood', 'underwear', 'undrstnd', 'undrstndng', 'unemploy', 'unev', 'unfold', 'unfortun', 'unfortuntli', 'unhappi', 'uni', 'unicef', 'uniform', 'unintent', 'uniqu', 'unit', 'univ', 'univers', 'unjalur', 'unkempt', 'unknown', 'unless', 'unlik', 'unlimit', 'unmit', 'unnecessarili', 'unni', 'unrecogn', 'unredeem', 'unsecur', 'unsold', 'unspoken', 'unsub', 'unsubscrib', 'untam', 'unusu', 'up', 'upcharg', 'upd', 'updat', 'update_now', 'upgrad', 'upgrdcentr', 'upload', 'upon', 'upset', 'upstair', 'upto', 'uptown', 'ur', 'urawinn', 'ure', 'urfeel', 'urgent', 'urgh', 'urgnt', 'urgoin', 'urgran', 'urin', 'url', 'urmom', 'urn', 'urself', 'us', 'usa', 'usb', 'usc', 'use', 'useless', 'user', 'usf', 'usher', 'usml', 'usp', 'usual', 'utel', 'uteru', 'utter', 'utxt', 'uup', 'uv', 'uve', 'uwana', 'uwant', 'uworld', 'uz', 'va', 'vaazhthukk', 'vagu', 'vale', 'valentin', 'valid', 'valu', 'valuabl', 'varaya', 'vargu', 'vari', 'variou', 'varma', 'varunnathu', 'vasai', 'vat', 'vatian', 'vava', 'vco', 'vday', 'vega', 'veget', 'veggi', 'vehicl', 'velacheri', 'velli', 'velusami', 'venaam', 'venugop', 'verifi', 'version', 'versu', 'vettam', 'vewi', 'via', 'vibrant', 'vibrat', 'vic', 'victor', 'victoria', 'vid', 'video', 'videochat', 'videophon', 'videosound', 'view', 'vijay', 'vijaykanth', 'vikki', 'vilikkam', 'vill', 'villa', 'villag', 'vinobanagar', 'violat', 'violenc', 'violet', 'vip', 'vipclub', 'virgil', 'virgin', 'virtual', 'visa', 'visionsm', 'visit', 'visitor', 'vital', 'vitamin', 'viva', 'vivek', 'vivekanand', 'vl', 'voda', 'vodafon', 'vodka', 'voic', 'voicemail', 'voila', 'volcano', 'vomit', 'vomitin', 'vote', 'vouch', 'voucher', 'vpod', 'vri', 'vs', 'vth', 'vu', 'wa', 'waaaat', 'wad', 'wadebridg', 'wah', 'wahala', 'wahay', 'wahe', 'waheeda', 'wahleykkum', 'waht', 'wait', 'waitin', 'wake', 'wale', 'walik', 'walk', 'walkabout', 'walkin', 'wall', 'wallet', 'wallpap', 'walmart', 'walsal', 'wamma', 'wan', 'wana', 'wannatel', 'want', 'wap', 'waqt', 'ward', 'warm', 'warn', 'warner', 'warranti', 'warwick', 'washob', 'wasnt', 'wast', 'wat', 'watch', 'watchin', 'watchng', 'wate', 'water', 'watershd', 'watev', 'watevr', 'watr', 'watt', 'wave', 'waver', 'waxsto', 'way', 'waz', 'wb', 'wc', 'weak', 'weapon', 'wear', 'weasel', 'weather', 'web', 'webadr', 'webeburnin', 'webpag', 'websit', 'wed', 'weddin', 'weddingfriend', 'wedlunch', 'wednesday', 'wee', 'weed', 'week', 'weekday', 'weekend', 'weekli', 'weigh', 'weight', 'weightloss', 'weird', 'weirdest', 'weirdi', 'weirdo', 'weiyi', 'welcom', 'well', 'wellda', 'welp', 'wen', 'wendi', 'wenev', 'went', 'wenwecan', 'wer', 'werebor', 'wereth', 'wesley', 'west', 'western', 'westlif', 'westonzoyland', 'westshor', 'wet', 'wetherspoon', 'wewa', 'whassup', 'what', 'whatev', 'whatsup', 'wheat', 'wheel', 'wheellock', 'when', 'whenev', 'whenevr', 'wherear', 'wherev', 'wherevr', 'wherr', 'whether', 'whilltak', 'whisper', 'white', 'whn', 'who', 'whoever', 'whole', 'whore', 'whose', 'whr', 'wi', 'wick', 'wicket', 'wicklow', 'wid', 'widel', 'wif', 'wife', 'wifi', 'wihtuot', 'wikipedia', 'wil', 'wild', 'wildest', 'wildlif', 'will', 'willpow', 'win', 'winaweek', 'winawk', 'wind', 'windi', 'window', 'wine', 'wing', 'winner', 'winnersclub', 'winterston', 'wipe', 'wipro', 'wire', 'wisdom', 'wise', 'wish', 'wishin', 'wishlist', 'wiskey', 'wit', 'withdraw', 'wither', 'within', 'without', 'witin', 'witot', 'witout', 'wiv', 'wizzl', 'wk', 'wkend', 'wkent', 'wkg', 'wkli', 'wknd', 'wlcome', 'wld', 'wml', 'wn', 'wnevr', 'wnt', 'wo', 'woah', 'wocay', 'woke', 'woken', 'woman', 'womdarful', 'women', 'wondar', 'wondarful', 'wonder', 'wont', 'woo', 'wood', 'woodland', 'woohoo', 'woot', 'woould', 'woozl', 'worc', 'word', 'work', 'workag', 'workand', 'workin', 'workout', 'world', 'worm', 'worri', 'wors', 'worst', 'worth', 'worthless', 'worzel', 'wot', 'wotu', 'wotz', 'woul', 'would', 'woulda', 'wound', 'wow', 'wp', 'wq', 'wr', 'wrc', 'wrd', 'wreck', 'wrench', 'wright', 'write', 'writh', 'wrk', 'wrkin', 'wrking', 'wrld', 'wrnog', 'wrong', 'wrongli', 'wrote', 'ws', 'wt', 'wtc', 'wtf', 'wth', 'wthout', 'wtlp', 'wu', 'wud', 'wudn', 'wuld', 'wuldnt', 'wun', 'wv', 'www', 'wx', 'wyli', 'xafter', 'xam', 'xavier', 'xchat', 'xclusiv', 'xe', 'xh', 'xin', 'xma', 'xn', 'xoxo', 'xt', 'xuhui', 'xx', 'xxsp', 'xxuk', 'xxx', 'xxxmobilemovieclub', 'xxxx', 'xxxxx', 'xxxxxx', 'xxxxxxx', 'xxxxxxxx', 'xxxxxxxxx', 'xxxxxxxxxxxxxx', 'xy', 'ya', 'yah', 'yahoo', 'yalrigu', 'yalru', 'yam', 'yan', 'yar', 'yarasu', 'yard', 'yavnt', 'yaxx', 'yaxxx', 'yay', 'yck', 'ye', 'yeah', 'year', 'yeesh', 'yeh', 'yell', 'yellow', 'yelow', 'yen', 'yeovil', 'yep', 'yer', 'yest', 'yesterday', 'yet', 'yetti', 'yetund', 'yf', 'yhl', 'yi', 'yifeng', 'yiju', 'ym', 'ymca', 'yo', 'yoga', 'yogasana', 'yor', 'yorg', 'youdo', 'youi', 'young', 'younger', 'youphon', 'your', 'yourinclus', 'yourjob', 'youuuuu', 'youwanna', 'yovil', 'yowif', 'yoyyooo', 'yr', 'ystrday', 'yt', 'ything', 'yummi', 'yummmm', 'yun', 'yunni', 'yuo', 'yuou', 'yup', 'yupz', 'zac', 'zaher', 'zealand', 'zebra', 'zed', 'zero', 'zf', 'zhong', 'zindgi', 'zoe', 'zogtoriu', 'zoom', 'zouk']\n"
     ]
    },
    {
     "name": "stderr",
     "output_type": "stream",
     "text": [
      "/opt/conda/lib/python3.7/site-packages/sklearn/utils/deprecation.py:87: FutureWarning: Function get_feature_names is deprecated; get_feature_names is deprecated in 1.0 and will be removed in 1.2. Please use get_feature_names_out instead.\n",
      "  warnings.warn(msg, category=FutureWarning)\n"
     ]
    }
   ],
   "source": [
    "print(X.get_feature_names())"
   ]
  },
  {
   "cell_type": "code",
   "execution_count": 16,
   "id": "ba828423",
   "metadata": {
    "execution": {
     "iopub.execute_input": "2022-09-14T00:41:49.731288Z",
     "iopub.status.busy": "2022-09-14T00:41:49.730483Z",
     "iopub.status.idle": "2022-09-14T00:41:49.868045Z",
     "shell.execute_reply": "2022-09-14T00:41:49.866822Z"
    },
    "papermill": {
     "duration": 0.152435,
     "end_time": "2022-09-14T00:41:49.870917",
     "exception": false,
     "start_time": "2022-09-14T00:41:49.718482",
     "status": "completed"
    },
    "tags": []
   },
   "outputs": [],
   "source": [
    "X_transformed = X.transform(corpus).toarray()"
   ]
  },
  {
   "cell_type": "code",
   "execution_count": 17,
   "id": "72487b91",
   "metadata": {
    "execution": {
     "iopub.execute_input": "2022-09-14T00:41:49.893904Z",
     "iopub.status.busy": "2022-09-14T00:41:49.893253Z",
     "iopub.status.idle": "2022-09-14T00:41:49.898238Z",
     "shell.execute_reply": "2022-09-14T00:41:49.897007Z"
    },
    "papermill": {
     "duration": 0.019459,
     "end_time": "2022-09-14T00:41:49.901087",
     "exception": false,
     "start_time": "2022-09-14T00:41:49.881628",
     "status": "completed"
    },
    "tags": []
   },
   "outputs": [],
   "source": [
    "#create data frame with these features \n",
    "# df_clean = pd.DataFrame(X_transformed,columns=X.get_feature_names()).add_prefix('Counts_')\n"
   ]
  },
  {
   "cell_type": "code",
   "execution_count": null,
   "id": "ec60a2dc",
   "metadata": {
    "execution": {
     "iopub.execute_input": "2022-09-14T00:09:59.455495Z",
     "iopub.status.busy": "2022-09-14T00:09:59.454232Z",
     "iopub.status.idle": "2022-09-14T00:09:59.478064Z",
     "shell.execute_reply": "2022-09-14T00:09:59.476596Z",
     "shell.execute_reply.started": "2022-09-14T00:09:59.455457Z"
    },
    "papermill": {
     "duration": 0.010284,
     "end_time": "2022-09-14T00:41:49.922225",
     "exception": false,
     "start_time": "2022-09-14T00:41:49.911941",
     "status": "completed"
    },
    "tags": []
   },
   "outputs": [],
   "source": []
  },
  {
   "cell_type": "code",
   "execution_count": 18,
   "id": "ca0dd806",
   "metadata": {
    "execution": {
     "iopub.execute_input": "2022-09-14T00:41:49.946054Z",
     "iopub.status.busy": "2022-09-14T00:41:49.945252Z",
     "iopub.status.idle": "2022-09-14T00:41:49.950143Z",
     "shell.execute_reply": "2022-09-14T00:41:49.949375Z"
    },
    "papermill": {
     "duration": 0.019314,
     "end_time": "2022-09-14T00:41:49.952437",
     "exception": false,
     "start_time": "2022-09-14T00:41:49.933123",
     "status": "completed"
    },
    "tags": []
   },
   "outputs": [],
   "source": [
    "# df_new=pd.concat([df,df_clean],axis=1, sort=False)\n"
   ]
  },
  {
   "cell_type": "code",
   "execution_count": 19,
   "id": "7fc25dd6",
   "metadata": {
    "execution": {
     "iopub.execute_input": "2022-09-14T00:41:49.975499Z",
     "iopub.status.busy": "2022-09-14T00:41:49.974740Z",
     "iopub.status.idle": "2022-09-14T00:41:49.979331Z",
     "shell.execute_reply": "2022-09-14T00:41:49.978571Z"
    },
    "papermill": {
     "duration": 0.018659,
     "end_time": "2022-09-14T00:41:49.981590",
     "exception": false,
     "start_time": "2022-09-14T00:41:49.962931",
     "status": "completed"
    },
    "tags": []
   },
   "outputs": [],
   "source": [
    "# df_new.head()"
   ]
  },
  {
   "cell_type": "code",
   "execution_count": 20,
   "id": "c96487a5",
   "metadata": {
    "execution": {
     "iopub.execute_input": "2022-09-14T00:41:50.005665Z",
     "iopub.status.busy": "2022-09-14T00:41:50.004902Z",
     "iopub.status.idle": "2022-09-14T00:41:50.018731Z",
     "shell.execute_reply": "2022-09-14T00:41:50.017662Z"
    },
    "papermill": {
     "duration": 0.028441,
     "end_time": "2022-09-14T00:41:50.020983",
     "exception": false,
     "start_time": "2022-09-14T00:41:49.992542",
     "status": "completed"
    },
    "tags": []
   },
   "outputs": [
    {
     "data": {
      "text/html": [
       "<div>\n",
       "<style scoped>\n",
       "    .dataframe tbody tr th:only-of-type {\n",
       "        vertical-align: middle;\n",
       "    }\n",
       "\n",
       "    .dataframe tbody tr th {\n",
       "        vertical-align: top;\n",
       "    }\n",
       "\n",
       "    .dataframe thead th {\n",
       "        text-align: right;\n",
       "    }\n",
       "</style>\n",
       "<table border=\"1\" class=\"dataframe\">\n",
       "  <thead>\n",
       "    <tr style=\"text-align: right;\">\n",
       "      <th></th>\n",
       "      <th>Category</th>\n",
       "      <th>Message</th>\n",
       "    </tr>\n",
       "  </thead>\n",
       "  <tbody>\n",
       "    <tr>\n",
       "      <th>0</th>\n",
       "      <td>1</td>\n",
       "      <td>Go until jurong point, crazy.. Available only ...</td>\n",
       "    </tr>\n",
       "    <tr>\n",
       "      <th>1</th>\n",
       "      <td>1</td>\n",
       "      <td>Ok lar... Joking wif u oni...</td>\n",
       "    </tr>\n",
       "    <tr>\n",
       "      <th>2</th>\n",
       "      <td>0</td>\n",
       "      <td>Free entry in 2 a wkly comp to win FA Cup fina...</td>\n",
       "    </tr>\n",
       "    <tr>\n",
       "      <th>3</th>\n",
       "      <td>1</td>\n",
       "      <td>U dun say so early hor... U c already then say...</td>\n",
       "    </tr>\n",
       "    <tr>\n",
       "      <th>4</th>\n",
       "      <td>1</td>\n",
       "      <td>Nah I don't think he goes to usf, he lives aro...</td>\n",
       "    </tr>\n",
       "  </tbody>\n",
       "</table>\n",
       "</div>"
      ],
      "text/plain": [
       "   Category                                            Message\n",
       "0         1  Go until jurong point, crazy.. Available only ...\n",
       "1         1                      Ok lar... Joking wif u oni...\n",
       "2         0  Free entry in 2 a wkly comp to win FA Cup fina...\n",
       "3         1  U dun say so early hor... U c already then say...\n",
       "4         1  Nah I don't think he goes to usf, he lives aro..."
      ]
     },
     "execution_count": 20,
     "metadata": {},
     "output_type": "execute_result"
    }
   ],
   "source": [
    "df['Category'] = df['Category'].replace({'spam':0,'ham':1})\n",
    "df.head()"
   ]
  },
  {
   "cell_type": "code",
   "execution_count": 21,
   "id": "b7cc07cb",
   "metadata": {
    "execution": {
     "iopub.execute_input": "2022-09-14T00:41:50.044369Z",
     "iopub.status.busy": "2022-09-14T00:41:50.043943Z",
     "iopub.status.idle": "2022-09-14T00:41:50.048956Z",
     "shell.execute_reply": "2022-09-14T00:41:50.047779Z"
    },
    "papermill": {
     "duration": 0.019468,
     "end_time": "2022-09-14T00:41:50.051301",
     "exception": false,
     "start_time": "2022-09-14T00:41:50.031833",
     "status": "completed"
    },
    "tags": []
   },
   "outputs": [],
   "source": [
    "y = df.iloc[:, 0]"
   ]
  },
  {
   "cell_type": "code",
   "execution_count": 22,
   "id": "642a1ba2",
   "metadata": {
    "execution": {
     "iopub.execute_input": "2022-09-14T00:41:50.074752Z",
     "iopub.status.busy": "2022-09-14T00:41:50.074328Z",
     "iopub.status.idle": "2022-09-14T00:41:50.082826Z",
     "shell.execute_reply": "2022-09-14T00:41:50.081688Z"
    },
    "papermill": {
     "duration": 0.023078,
     "end_time": "2022-09-14T00:41:50.085111",
     "exception": false,
     "start_time": "2022-09-14T00:41:50.062033",
     "status": "completed"
    },
    "tags": []
   },
   "outputs": [
    {
     "data": {
      "text/plain": [
       "1    4825\n",
       "0     747\n",
       "Name: Category, dtype: int64"
      ]
     },
     "execution_count": 22,
     "metadata": {},
     "output_type": "execute_result"
    }
   ],
   "source": [
    "y.value_counts()\n"
   ]
  },
  {
   "cell_type": "markdown",
   "id": "54a16ae5",
   "metadata": {
    "papermill": {
     "duration": 0.010466,
     "end_time": "2022-09-14T00:41:50.106516",
     "exception": false,
     "start_time": "2022-09-14T00:41:50.096050",
     "status": "completed"
    },
    "tags": []
   },
   "source": [
    "# Model"
   ]
  },
  {
   "cell_type": "code",
   "execution_count": 23,
   "id": "151ebb19",
   "metadata": {
    "execution": {
     "iopub.execute_input": "2022-09-14T00:41:50.130718Z",
     "iopub.status.busy": "2022-09-14T00:41:50.129929Z",
     "iopub.status.idle": "2022-09-14T00:41:50.137015Z",
     "shell.execute_reply": "2022-09-14T00:41:50.136259Z"
    },
    "papermill": {
     "duration": 0.021427,
     "end_time": "2022-09-14T00:41:50.139112",
     "exception": false,
     "start_time": "2022-09-14T00:41:50.117685",
     "status": "completed"
    },
    "tags": []
   },
   "outputs": [],
   "source": [
    "from sklearn.model_selection import train_test_split\n",
    "from sklearn.naive_bayes import MultinomialNB\n",
    "\n"
   ]
  },
  {
   "cell_type": "code",
   "execution_count": 24,
   "id": "7655e234",
   "metadata": {
    "execution": {
     "iopub.execute_input": "2022-09-14T00:41:50.162485Z",
     "iopub.status.busy": "2022-09-14T00:41:50.162055Z",
     "iopub.status.idle": "2022-09-14T00:41:50.286487Z",
     "shell.execute_reply": "2022-09-14T00:41:50.285284Z"
    },
    "papermill": {
     "duration": 0.139205,
     "end_time": "2022-09-14T00:41:50.289229",
     "exception": false,
     "start_time": "2022-09-14T00:41:50.150024",
     "status": "completed"
    },
    "tags": []
   },
   "outputs": [],
   "source": [
    "X_train, X_test, y_train, y_test = train_test_split(X_transformed,y,test_size=0.2,stratify=y)"
   ]
  },
  {
   "cell_type": "code",
   "execution_count": 25,
   "id": "ea610911",
   "metadata": {
    "execution": {
     "iopub.execute_input": "2022-09-14T00:41:50.312888Z",
     "iopub.status.busy": "2022-09-14T00:41:50.312477Z",
     "iopub.status.idle": "2022-09-14T00:41:50.317747Z",
     "shell.execute_reply": "2022-09-14T00:41:50.316533Z"
    },
    "papermill": {
     "duration": 0.01957,
     "end_time": "2022-09-14T00:41:50.319944",
     "exception": false,
     "start_time": "2022-09-14T00:41:50.300374",
     "status": "completed"
    },
    "tags": []
   },
   "outputs": [],
   "source": [
    "model = MultinomialNB()"
   ]
  },
  {
   "cell_type": "code",
   "execution_count": 26,
   "id": "168c2511",
   "metadata": {
    "execution": {
     "iopub.execute_input": "2022-09-14T00:41:50.343648Z",
     "iopub.status.busy": "2022-09-14T00:41:50.343215Z",
     "iopub.status.idle": "2022-09-14T00:41:50.483429Z",
     "shell.execute_reply": "2022-09-14T00:41:50.482093Z"
    },
    "papermill": {
     "duration": 0.155243,
     "end_time": "2022-09-14T00:41:50.486181",
     "exception": false,
     "start_time": "2022-09-14T00:41:50.330938",
     "status": "completed"
    },
    "tags": []
   },
   "outputs": [],
   "source": [
    "spam_detect_model = model.fit(X_train,y_train)"
   ]
  },
  {
   "cell_type": "code",
   "execution_count": 27,
   "id": "5a64e03a",
   "metadata": {
    "execution": {
     "iopub.execute_input": "2022-09-14T00:41:50.510163Z",
     "iopub.status.busy": "2022-09-14T00:41:50.509752Z",
     "iopub.status.idle": "2022-09-14T00:41:50.540510Z",
     "shell.execute_reply": "2022-09-14T00:41:50.539089Z"
    },
    "papermill": {
     "duration": 0.046655,
     "end_time": "2022-09-14T00:41:50.544071",
     "exception": false,
     "start_time": "2022-09-14T00:41:50.497416",
     "status": "completed"
    },
    "tags": []
   },
   "outputs": [],
   "source": [
    "predictions = spam_detect_model.predict(X_test)"
   ]
  },
  {
   "cell_type": "code",
   "execution_count": 28,
   "id": "4b60e406",
   "metadata": {
    "execution": {
     "iopub.execute_input": "2022-09-14T00:41:50.581967Z",
     "iopub.status.busy": "2022-09-14T00:41:50.581381Z",
     "iopub.status.idle": "2022-09-14T00:41:50.590235Z",
     "shell.execute_reply": "2022-09-14T00:41:50.588880Z"
    },
    "papermill": {
     "duration": 0.032037,
     "end_time": "2022-09-14T00:41:50.594045",
     "exception": false,
     "start_time": "2022-09-14T00:41:50.562008",
     "status": "completed"
    },
    "tags": []
   },
   "outputs": [],
   "source": [
    "a = {'Actual':y_test,'predict':predictions}"
   ]
  },
  {
   "cell_type": "code",
   "execution_count": 29,
   "id": "39682a29",
   "metadata": {
    "execution": {
     "iopub.execute_input": "2022-09-14T00:41:50.635466Z",
     "iopub.status.busy": "2022-09-14T00:41:50.634887Z",
     "iopub.status.idle": "2022-09-14T00:41:50.659988Z",
     "shell.execute_reply": "2022-09-14T00:41:50.658764Z"
    },
    "papermill": {
     "duration": 0.049109,
     "end_time": "2022-09-14T00:41:50.662877",
     "exception": false,
     "start_time": "2022-09-14T00:41:50.613768",
     "status": "completed"
    },
    "tags": []
   },
   "outputs": [
    {
     "data": {
      "text/html": [
       "<div>\n",
       "<style scoped>\n",
       "    .dataframe tbody tr th:only-of-type {\n",
       "        vertical-align: middle;\n",
       "    }\n",
       "\n",
       "    .dataframe tbody tr th {\n",
       "        vertical-align: top;\n",
       "    }\n",
       "\n",
       "    .dataframe thead th {\n",
       "        text-align: right;\n",
       "    }\n",
       "</style>\n",
       "<table border=\"1\" class=\"dataframe\">\n",
       "  <thead>\n",
       "    <tr style=\"text-align: right;\">\n",
       "      <th></th>\n",
       "      <th>Actual</th>\n",
       "      <th>predict</th>\n",
       "    </tr>\n",
       "  </thead>\n",
       "  <tbody>\n",
       "    <tr>\n",
       "      <th>2394</th>\n",
       "      <td>1</td>\n",
       "      <td>1</td>\n",
       "    </tr>\n",
       "    <tr>\n",
       "      <th>1233</th>\n",
       "      <td>1</td>\n",
       "      <td>1</td>\n",
       "    </tr>\n",
       "    <tr>\n",
       "      <th>605</th>\n",
       "      <td>1</td>\n",
       "      <td>1</td>\n",
       "    </tr>\n",
       "    <tr>\n",
       "      <th>520</th>\n",
       "      <td>1</td>\n",
       "      <td>1</td>\n",
       "    </tr>\n",
       "    <tr>\n",
       "      <th>1547</th>\n",
       "      <td>1</td>\n",
       "      <td>1</td>\n",
       "    </tr>\n",
       "    <tr>\n",
       "      <th>4050</th>\n",
       "      <td>1</td>\n",
       "      <td>1</td>\n",
       "    </tr>\n",
       "    <tr>\n",
       "      <th>4577</th>\n",
       "      <td>0</td>\n",
       "      <td>0</td>\n",
       "    </tr>\n",
       "    <tr>\n",
       "      <th>5044</th>\n",
       "      <td>1</td>\n",
       "      <td>1</td>\n",
       "    </tr>\n",
       "    <tr>\n",
       "      <th>229</th>\n",
       "      <td>1</td>\n",
       "      <td>1</td>\n",
       "    </tr>\n",
       "    <tr>\n",
       "      <th>4936</th>\n",
       "      <td>1</td>\n",
       "      <td>1</td>\n",
       "    </tr>\n",
       "    <tr>\n",
       "      <th>3586</th>\n",
       "      <td>1</td>\n",
       "      <td>1</td>\n",
       "    </tr>\n",
       "    <tr>\n",
       "      <th>966</th>\n",
       "      <td>1</td>\n",
       "      <td>1</td>\n",
       "    </tr>\n",
       "    <tr>\n",
       "      <th>2047</th>\n",
       "      <td>1</td>\n",
       "      <td>1</td>\n",
       "    </tr>\n",
       "    <tr>\n",
       "      <th>1093</th>\n",
       "      <td>1</td>\n",
       "      <td>1</td>\n",
       "    </tr>\n",
       "    <tr>\n",
       "      <th>765</th>\n",
       "      <td>1</td>\n",
       "      <td>1</td>\n",
       "    </tr>\n",
       "    <tr>\n",
       "      <th>2474</th>\n",
       "      <td>1</td>\n",
       "      <td>1</td>\n",
       "    </tr>\n",
       "    <tr>\n",
       "      <th>566</th>\n",
       "      <td>1</td>\n",
       "      <td>1</td>\n",
       "    </tr>\n",
       "    <tr>\n",
       "      <th>1276</th>\n",
       "      <td>1</td>\n",
       "      <td>1</td>\n",
       "    </tr>\n",
       "    <tr>\n",
       "      <th>684</th>\n",
       "      <td>0</td>\n",
       "      <td>1</td>\n",
       "    </tr>\n",
       "    <tr>\n",
       "      <th>3379</th>\n",
       "      <td>1</td>\n",
       "      <td>1</td>\n",
       "    </tr>\n",
       "    <tr>\n",
       "      <th>4690</th>\n",
       "      <td>1</td>\n",
       "      <td>1</td>\n",
       "    </tr>\n",
       "    <tr>\n",
       "      <th>4029</th>\n",
       "      <td>1</td>\n",
       "      <td>1</td>\n",
       "    </tr>\n",
       "    <tr>\n",
       "      <th>1553</th>\n",
       "      <td>1</td>\n",
       "      <td>1</td>\n",
       "    </tr>\n",
       "    <tr>\n",
       "      <th>865</th>\n",
       "      <td>1</td>\n",
       "      <td>1</td>\n",
       "    </tr>\n",
       "    <tr>\n",
       "      <th>2840</th>\n",
       "      <td>1</td>\n",
       "      <td>1</td>\n",
       "    </tr>\n",
       "    <tr>\n",
       "      <th>2905</th>\n",
       "      <td>1</td>\n",
       "      <td>1</td>\n",
       "    </tr>\n",
       "    <tr>\n",
       "      <th>3238</th>\n",
       "      <td>1</td>\n",
       "      <td>1</td>\n",
       "    </tr>\n",
       "    <tr>\n",
       "      <th>323</th>\n",
       "      <td>1</td>\n",
       "      <td>1</td>\n",
       "    </tr>\n",
       "    <tr>\n",
       "      <th>3330</th>\n",
       "      <td>1</td>\n",
       "      <td>1</td>\n",
       "    </tr>\n",
       "    <tr>\n",
       "      <th>2789</th>\n",
       "      <td>1</td>\n",
       "      <td>1</td>\n",
       "    </tr>\n",
       "    <tr>\n",
       "      <th>308</th>\n",
       "      <td>1</td>\n",
       "      <td>1</td>\n",
       "    </tr>\n",
       "    <tr>\n",
       "      <th>517</th>\n",
       "      <td>0</td>\n",
       "      <td>0</td>\n",
       "    </tr>\n",
       "    <tr>\n",
       "      <th>5247</th>\n",
       "      <td>1</td>\n",
       "      <td>1</td>\n",
       "    </tr>\n",
       "    <tr>\n",
       "      <th>4489</th>\n",
       "      <td>1</td>\n",
       "      <td>1</td>\n",
       "    </tr>\n",
       "    <tr>\n",
       "      <th>4243</th>\n",
       "      <td>0</td>\n",
       "      <td>0</td>\n",
       "    </tr>\n",
       "    <tr>\n",
       "      <th>4586</th>\n",
       "      <td>0</td>\n",
       "      <td>0</td>\n",
       "    </tr>\n",
       "    <tr>\n",
       "      <th>2754</th>\n",
       "      <td>1</td>\n",
       "      <td>1</td>\n",
       "    </tr>\n",
       "    <tr>\n",
       "      <th>4021</th>\n",
       "      <td>1</td>\n",
       "      <td>1</td>\n",
       "    </tr>\n",
       "    <tr>\n",
       "      <th>3865</th>\n",
       "      <td>1</td>\n",
       "      <td>1</td>\n",
       "    </tr>\n",
       "    <tr>\n",
       "      <th>2494</th>\n",
       "      <td>1</td>\n",
       "      <td>1</td>\n",
       "    </tr>\n",
       "    <tr>\n",
       "      <th>2438</th>\n",
       "      <td>0</td>\n",
       "      <td>0</td>\n",
       "    </tr>\n",
       "    <tr>\n",
       "      <th>2525</th>\n",
       "      <td>0</td>\n",
       "      <td>0</td>\n",
       "    </tr>\n",
       "    <tr>\n",
       "      <th>251</th>\n",
       "      <td>1</td>\n",
       "      <td>1</td>\n",
       "    </tr>\n",
       "    <tr>\n",
       "      <th>4215</th>\n",
       "      <td>1</td>\n",
       "      <td>1</td>\n",
       "    </tr>\n",
       "    <tr>\n",
       "      <th>4819</th>\n",
       "      <td>1</td>\n",
       "      <td>1</td>\n",
       "    </tr>\n",
       "    <tr>\n",
       "      <th>5050</th>\n",
       "      <td>1</td>\n",
       "      <td>1</td>\n",
       "    </tr>\n",
       "    <tr>\n",
       "      <th>170</th>\n",
       "      <td>1</td>\n",
       "      <td>1</td>\n",
       "    </tr>\n",
       "    <tr>\n",
       "      <th>3490</th>\n",
       "      <td>1</td>\n",
       "      <td>1</td>\n",
       "    </tr>\n",
       "    <tr>\n",
       "      <th>4717</th>\n",
       "      <td>1</td>\n",
       "      <td>1</td>\n",
       "    </tr>\n",
       "    <tr>\n",
       "      <th>198</th>\n",
       "      <td>1</td>\n",
       "      <td>1</td>\n",
       "    </tr>\n",
       "  </tbody>\n",
       "</table>\n",
       "</div>"
      ],
      "text/plain": [
       "      Actual  predict\n",
       "2394       1        1\n",
       "1233       1        1\n",
       "605        1        1\n",
       "520        1        1\n",
       "1547       1        1\n",
       "4050       1        1\n",
       "4577       0        0\n",
       "5044       1        1\n",
       "229        1        1\n",
       "4936       1        1\n",
       "3586       1        1\n",
       "966        1        1\n",
       "2047       1        1\n",
       "1093       1        1\n",
       "765        1        1\n",
       "2474       1        1\n",
       "566        1        1\n",
       "1276       1        1\n",
       "684        0        1\n",
       "3379       1        1\n",
       "4690       1        1\n",
       "4029       1        1\n",
       "1553       1        1\n",
       "865        1        1\n",
       "2840       1        1\n",
       "2905       1        1\n",
       "3238       1        1\n",
       "323        1        1\n",
       "3330       1        1\n",
       "2789       1        1\n",
       "308        1        1\n",
       "517        0        0\n",
       "5247       1        1\n",
       "4489       1        1\n",
       "4243       0        0\n",
       "4586       0        0\n",
       "2754       1        1\n",
       "4021       1        1\n",
       "3865       1        1\n",
       "2494       1        1\n",
       "2438       0        0\n",
       "2525       0        0\n",
       "251        1        1\n",
       "4215       1        1\n",
       "4819       1        1\n",
       "5050       1        1\n",
       "170        1        1\n",
       "3490       1        1\n",
       "4717       1        1\n",
       "198        1        1"
      ]
     },
     "execution_count": 29,
     "metadata": {},
     "output_type": "execute_result"
    }
   ],
   "source": [
    "pd.DataFrame(a).tail(50)"
   ]
  },
  {
   "cell_type": "markdown",
   "id": "aff10c1a",
   "metadata": {
    "papermill": {
     "duration": 0.011179,
     "end_time": "2022-09-14T00:41:50.685593",
     "exception": false,
     "start_time": "2022-09-14T00:41:50.674414",
     "status": "completed"
    },
    "tags": []
   },
   "source": [
    "# Evaluation "
   ]
  },
  {
   "cell_type": "code",
   "execution_count": 30,
   "id": "25c65d22",
   "metadata": {
    "execution": {
     "iopub.execute_input": "2022-09-14T00:41:50.710296Z",
     "iopub.status.busy": "2022-09-14T00:41:50.709546Z",
     "iopub.status.idle": "2022-09-14T00:41:50.735011Z",
     "shell.execute_reply": "2022-09-14T00:41:50.734109Z"
    },
    "papermill": {
     "duration": 0.040975,
     "end_time": "2022-09-14T00:41:50.737851",
     "exception": false,
     "start_time": "2022-09-14T00:41:50.696876",
     "status": "completed"
    },
    "tags": []
   },
   "outputs": [],
   "source": [
    "from sklearn.metrics import confusion_matrix, accuracy_score\n",
    "from sklearn.metrics import accuracy_score, precision_score, recall_score, f1_score\n",
    "\n",
    "from scikitplot.metrics import plot_confusion_matrix, plot_roc"
   ]
  },
  {
   "cell_type": "code",
   "execution_count": 31,
   "id": "6eb08615",
   "metadata": {
    "execution": {
     "iopub.execute_input": "2022-09-14T00:41:50.762439Z",
     "iopub.status.busy": "2022-09-14T00:41:50.762026Z",
     "iopub.status.idle": "2022-09-14T00:41:50.771883Z",
     "shell.execute_reply": "2022-09-14T00:41:50.770864Z"
    },
    "papermill": {
     "duration": 0.024731,
     "end_time": "2022-09-14T00:41:50.774151",
     "exception": false,
     "start_time": "2022-09-14T00:41:50.749420",
     "status": "completed"
    },
    "tags": []
   },
   "outputs": [
    {
     "data": {
      "text/plain": [
       "array([[141,   8],\n",
       "       [ 15, 951]])"
      ]
     },
     "execution_count": 31,
     "metadata": {},
     "output_type": "execute_result"
    }
   ],
   "source": [
    "confusion_matrix(y_test, predictions)"
   ]
  },
  {
   "cell_type": "code",
   "execution_count": 32,
   "id": "438f2ce8",
   "metadata": {
    "execution": {
     "iopub.execute_input": "2022-09-14T00:41:50.799237Z",
     "iopub.status.busy": "2022-09-14T00:41:50.798481Z",
     "iopub.status.idle": "2022-09-14T00:41:50.805968Z",
     "shell.execute_reply": "2022-09-14T00:41:50.805099Z"
    },
    "papermill": {
     "duration": 0.022427,
     "end_time": "2022-09-14T00:41:50.808139",
     "exception": false,
     "start_time": "2022-09-14T00:41:50.785712",
     "status": "completed"
    },
    "tags": []
   },
   "outputs": [
    {
     "data": {
      "text/plain": [
       "0.979372197309417"
      ]
     },
     "execution_count": 32,
     "metadata": {},
     "output_type": "execute_result"
    }
   ],
   "source": [
    "accuracy_score(y_test, predictions)"
   ]
  },
  {
   "cell_type": "code",
   "execution_count": 33,
   "id": "04d3d7e5",
   "metadata": {
    "execution": {
     "iopub.execute_input": "2022-09-14T00:41:50.832951Z",
     "iopub.status.busy": "2022-09-14T00:41:50.832521Z",
     "iopub.status.idle": "2022-09-14T00:41:50.841053Z",
     "shell.execute_reply": "2022-09-14T00:41:50.839854Z"
    },
    "papermill": {
     "duration": 0.023697,
     "end_time": "2022-09-14T00:41:50.843406",
     "exception": false,
     "start_time": "2022-09-14T00:41:50.819709",
     "status": "completed"
    },
    "tags": []
   },
   "outputs": [
    {
     "name": "stdout",
     "output_type": "stream",
     "text": [
      "Precision Score of the model: 0.9916579770594369\n"
     ]
    }
   ],
   "source": [
    " print(f'Precision Score of the model: {precision_score(y_test,predictions)}')"
   ]
  },
  {
   "cell_type": "code",
   "execution_count": 34,
   "id": "604d4f3e",
   "metadata": {
    "execution": {
     "iopub.execute_input": "2022-09-14T00:41:50.868911Z",
     "iopub.status.busy": "2022-09-14T00:41:50.868105Z",
     "iopub.status.idle": "2022-09-14T00:41:50.876150Z",
     "shell.execute_reply": "2022-09-14T00:41:50.874670Z"
    },
    "papermill": {
     "duration": 0.024205,
     "end_time": "2022-09-14T00:41:50.879312",
     "exception": false,
     "start_time": "2022-09-14T00:41:50.855107",
     "status": "completed"
    },
    "tags": []
   },
   "outputs": [
    {
     "name": "stdout",
     "output_type": "stream",
     "text": [
      "Recall Score of the model: 0.984472049689441\n"
     ]
    }
   ],
   "source": [
    " print(f'Recall Score of the model: {recall_score(y_test,predictions)}')"
   ]
  },
  {
   "cell_type": "code",
   "execution_count": null,
   "id": "9e3e8091",
   "metadata": {
    "papermill": {
     "duration": 0.011473,
     "end_time": "2022-09-14T00:41:50.903170",
     "exception": false,
     "start_time": "2022-09-14T00:41:50.891697",
     "status": "completed"
    },
    "tags": []
   },
   "outputs": [],
   "source": []
  }
 ],
 "metadata": {
  "kernelspec": {
   "display_name": "Python 3",
   "language": "python",
   "name": "python3"
  },
  "language_info": {
   "codemirror_mode": {
    "name": "ipython",
    "version": 3
   },
   "file_extension": ".py",
   "mimetype": "text/x-python",
   "name": "python",
   "nbconvert_exporter": "python",
   "pygments_lexer": "ipython3",
   "version": "3.7.12"
  },
  "papermill": {
   "default_parameters": {},
   "duration": 30.452716,
   "end_time": "2022-09-14T00:41:51.636479",
   "environment_variables": {},
   "exception": null,
   "input_path": "__notebook__.ipynb",
   "output_path": "__notebook__.ipynb",
   "parameters": {},
   "start_time": "2022-09-14T00:41:21.183763",
   "version": "2.3.4"
  }
 },
 "nbformat": 4,
 "nbformat_minor": 5
}
