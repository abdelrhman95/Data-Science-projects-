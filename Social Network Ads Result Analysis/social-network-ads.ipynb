{
 "cells": [
  {
   "cell_type": "code",
   "execution_count": 1,
   "id": "e6f40d6e",
   "metadata": {
    "_cell_guid": "b1076dfc-b9ad-4769-8c92-a6c4dae69d19",
    "_uuid": "8f2839f25d086af736a60e9eeb907d3b93b6e0e5",
    "execution": {
     "iopub.execute_input": "2022-09-16T03:11:43.615224Z",
     "iopub.status.busy": "2022-09-16T03:11:43.614754Z",
     "iopub.status.idle": "2022-09-16T03:11:45.332881Z",
     "shell.execute_reply": "2022-09-16T03:11:45.331974Z"
    },
    "papermill": {
     "duration": 1.737183,
     "end_time": "2022-09-16T03:11:45.336299",
     "exception": false,
     "start_time": "2022-09-16T03:11:43.599116",
     "status": "completed"
    },
    "tags": []
   },
   "outputs": [
    {
     "name": "stdout",
     "output_type": "stream",
     "text": [
      "/kaggle/input/social-network-ads/Social_Network_Ads.csv\n"
     ]
    }
   ],
   "source": [
    "# This Python 3 environment comes with many helpful analytics libraries installed\n",
    "# It is defined by the kaggle/python Docker image: https://github.com/kaggle/docker-python\n",
    "# For example, here's several helpful packages to load\n",
    "\n",
    "import numpy as np # linear algebra\n",
    "import pandas as pd # data processing, CSV file I/O (e.g. pd.read_csv)\n",
    "\n",
    "import matplotlib.pyplot as plt \n",
    "import seaborn as sns\n",
    "plt.style.use('fivethirtyeight')\n",
    "%matplotlib inline\n",
    "import warnings\n",
    "warnings.filterwarnings('ignore')\n",
    "from sklearn.model_selection import train_test_split\n",
    "from sklearn.preprocessing import StandardScaler\n",
    "from sklearn.linear_model import LogisticRegression\n",
    "from sklearn.neighbors import KNeighborsClassifier\n",
    "from sklearn.svm import SVC\n",
    "from sklearn.tree import DecisionTreeClassifier\n",
    "from sklearn.ensemble import RandomForestClassifier, AdaBoostClassifier, GradientBoostingClassifier\n",
    "from xgboost import XGBClassifier, XGBRFClassifier\n",
    "\n",
    "# Input data files are available in the read-only \"../input/\" directory\n",
    "# For example, running this (by clicking run or pressing Shift+Enter) will list all files under the input directory\n",
    "\n",
    "import os\n",
    "for dirname, _, filenames in os.walk('/kaggle/input'):\n",
    "    for filename in filenames:\n",
    "        print(os.path.join(dirname, filename))\n",
    "\n",
    "# You can write up to 20GB to the current directory (/kaggle/working/) that gets preserved as output when you create a version using \"Save & Run All\" \n",
    "# You can also write temporary files to /kaggle/temp/, but they won't be saved outside of the current session"
   ]
  },
  {
   "cell_type": "markdown",
   "id": "dfca9227",
   "metadata": {
    "papermill": {
     "duration": 0.012095,
     "end_time": "2022-09-16T03:11:45.361862",
     "exception": false,
     "start_time": "2022-09-16T03:11:45.349767",
     "status": "completed"
    },
    "tags": []
   },
   "source": [
    "# 1. Problem Defintion  \n",
    "* How can we use machine learning models to predict if the ads that are shown to users will be purchased or not!\n",
    " "
   ]
  },
  {
   "cell_type": "markdown",
   "id": "fb3b67b1",
   "metadata": {
    "papermill": {
     "duration": 0.013673,
     "end_time": "2022-09-16T03:11:45.387982",
     "exception": false,
     "start_time": "2022-09-16T03:11:45.374309",
     "status": "completed"
    },
    "tags": []
   },
   "source": [
    "# 2. Import Data "
   ]
  },
  {
   "cell_type": "code",
   "execution_count": 2,
   "id": "0cd56963",
   "metadata": {
    "execution": {
     "iopub.execute_input": "2022-09-16T03:11:45.415019Z",
     "iopub.status.busy": "2022-09-16T03:11:45.414605Z",
     "iopub.status.idle": "2022-09-16T03:11:45.436377Z",
     "shell.execute_reply": "2022-09-16T03:11:45.435397Z"
    },
    "papermill": {
     "duration": 0.037972,
     "end_time": "2022-09-16T03:11:45.438943",
     "exception": false,
     "start_time": "2022-09-16T03:11:45.400971",
     "status": "completed"
    },
    "tags": []
   },
   "outputs": [],
   "source": [
    "df = pd.read_csv('../input/social-network-ads/Social_Network_Ads.csv')"
   ]
  },
  {
   "cell_type": "code",
   "execution_count": 3,
   "id": "70073fe6",
   "metadata": {
    "execution": {
     "iopub.execute_input": "2022-09-16T03:11:45.465754Z",
     "iopub.status.busy": "2022-09-16T03:11:45.465325Z",
     "iopub.status.idle": "2022-09-16T03:11:45.484647Z",
     "shell.execute_reply": "2022-09-16T03:11:45.483402Z"
    },
    "papermill": {
     "duration": 0.035469,
     "end_time": "2022-09-16T03:11:45.486961",
     "exception": false,
     "start_time": "2022-09-16T03:11:45.451492",
     "status": "completed"
    },
    "tags": []
   },
   "outputs": [
    {
     "data": {
      "text/html": [
       "<div>\n",
       "<style scoped>\n",
       "    .dataframe tbody tr th:only-of-type {\n",
       "        vertical-align: middle;\n",
       "    }\n",
       "\n",
       "    .dataframe tbody tr th {\n",
       "        vertical-align: top;\n",
       "    }\n",
       "\n",
       "    .dataframe thead th {\n",
       "        text-align: right;\n",
       "    }\n",
       "</style>\n",
       "<table border=\"1\" class=\"dataframe\">\n",
       "  <thead>\n",
       "    <tr style=\"text-align: right;\">\n",
       "      <th></th>\n",
       "      <th>Age</th>\n",
       "      <th>EstimatedSalary</th>\n",
       "      <th>Purchased</th>\n",
       "    </tr>\n",
       "  </thead>\n",
       "  <tbody>\n",
       "    <tr>\n",
       "      <th>0</th>\n",
       "      <td>19</td>\n",
       "      <td>19000</td>\n",
       "      <td>0</td>\n",
       "    </tr>\n",
       "    <tr>\n",
       "      <th>1</th>\n",
       "      <td>35</td>\n",
       "      <td>20000</td>\n",
       "      <td>0</td>\n",
       "    </tr>\n",
       "    <tr>\n",
       "      <th>2</th>\n",
       "      <td>26</td>\n",
       "      <td>43000</td>\n",
       "      <td>0</td>\n",
       "    </tr>\n",
       "    <tr>\n",
       "      <th>3</th>\n",
       "      <td>27</td>\n",
       "      <td>57000</td>\n",
       "      <td>0</td>\n",
       "    </tr>\n",
       "    <tr>\n",
       "      <th>4</th>\n",
       "      <td>19</td>\n",
       "      <td>76000</td>\n",
       "      <td>0</td>\n",
       "    </tr>\n",
       "  </tbody>\n",
       "</table>\n",
       "</div>"
      ],
      "text/plain": [
       "   Age  EstimatedSalary  Purchased\n",
       "0   19            19000          0\n",
       "1   35            20000          0\n",
       "2   26            43000          0\n",
       "3   27            57000          0\n",
       "4   19            76000          0"
      ]
     },
     "execution_count": 3,
     "metadata": {},
     "output_type": "execute_result"
    }
   ],
   "source": [
    "df.head()"
   ]
  },
  {
   "cell_type": "code",
   "execution_count": 4,
   "id": "67a380a8",
   "metadata": {
    "execution": {
     "iopub.execute_input": "2022-09-16T03:11:45.514502Z",
     "iopub.status.busy": "2022-09-16T03:11:45.513846Z",
     "iopub.status.idle": "2022-09-16T03:11:45.538975Z",
     "shell.execute_reply": "2022-09-16T03:11:45.537442Z"
    },
    "papermill": {
     "duration": 0.042277,
     "end_time": "2022-09-16T03:11:45.541955",
     "exception": false,
     "start_time": "2022-09-16T03:11:45.499678",
     "status": "completed"
    },
    "tags": []
   },
   "outputs": [
    {
     "name": "stdout",
     "output_type": "stream",
     "text": [
      "<class 'pandas.core.frame.DataFrame'>\n",
      "RangeIndex: 400 entries, 0 to 399\n",
      "Data columns (total 3 columns):\n",
      " #   Column           Non-Null Count  Dtype\n",
      "---  ------           --------------  -----\n",
      " 0   Age              400 non-null    int64\n",
      " 1   EstimatedSalary  400 non-null    int64\n",
      " 2   Purchased        400 non-null    int64\n",
      "dtypes: int64(3)\n",
      "memory usage: 9.5 KB\n"
     ]
    }
   ],
   "source": [
    "df.info()"
   ]
  },
  {
   "cell_type": "code",
   "execution_count": 5,
   "id": "ef0bcb71",
   "metadata": {
    "execution": {
     "iopub.execute_input": "2022-09-16T03:11:45.570300Z",
     "iopub.status.busy": "2022-09-16T03:11:45.569352Z",
     "iopub.status.idle": "2022-09-16T03:11:45.591621Z",
     "shell.execute_reply": "2022-09-16T03:11:45.590776Z"
    },
    "papermill": {
     "duration": 0.0386,
     "end_time": "2022-09-16T03:11:45.593694",
     "exception": false,
     "start_time": "2022-09-16T03:11:45.555094",
     "status": "completed"
    },
    "tags": []
   },
   "outputs": [
    {
     "data": {
      "text/html": [
       "<div>\n",
       "<style scoped>\n",
       "    .dataframe tbody tr th:only-of-type {\n",
       "        vertical-align: middle;\n",
       "    }\n",
       "\n",
       "    .dataframe tbody tr th {\n",
       "        vertical-align: top;\n",
       "    }\n",
       "\n",
       "    .dataframe thead th {\n",
       "        text-align: right;\n",
       "    }\n",
       "</style>\n",
       "<table border=\"1\" class=\"dataframe\">\n",
       "  <thead>\n",
       "    <tr style=\"text-align: right;\">\n",
       "      <th></th>\n",
       "      <th>Age</th>\n",
       "      <th>EstimatedSalary</th>\n",
       "      <th>Purchased</th>\n",
       "    </tr>\n",
       "  </thead>\n",
       "  <tbody>\n",
       "    <tr>\n",
       "      <th>count</th>\n",
       "      <td>400.000000</td>\n",
       "      <td>400.000000</td>\n",
       "      <td>400.000000</td>\n",
       "    </tr>\n",
       "    <tr>\n",
       "      <th>mean</th>\n",
       "      <td>37.655000</td>\n",
       "      <td>69742.500000</td>\n",
       "      <td>0.357500</td>\n",
       "    </tr>\n",
       "    <tr>\n",
       "      <th>std</th>\n",
       "      <td>10.482877</td>\n",
       "      <td>34096.960282</td>\n",
       "      <td>0.479864</td>\n",
       "    </tr>\n",
       "    <tr>\n",
       "      <th>min</th>\n",
       "      <td>18.000000</td>\n",
       "      <td>15000.000000</td>\n",
       "      <td>0.000000</td>\n",
       "    </tr>\n",
       "    <tr>\n",
       "      <th>25%</th>\n",
       "      <td>29.750000</td>\n",
       "      <td>43000.000000</td>\n",
       "      <td>0.000000</td>\n",
       "    </tr>\n",
       "    <tr>\n",
       "      <th>50%</th>\n",
       "      <td>37.000000</td>\n",
       "      <td>70000.000000</td>\n",
       "      <td>0.000000</td>\n",
       "    </tr>\n",
       "    <tr>\n",
       "      <th>75%</th>\n",
       "      <td>46.000000</td>\n",
       "      <td>88000.000000</td>\n",
       "      <td>1.000000</td>\n",
       "    </tr>\n",
       "    <tr>\n",
       "      <th>max</th>\n",
       "      <td>60.000000</td>\n",
       "      <td>150000.000000</td>\n",
       "      <td>1.000000</td>\n",
       "    </tr>\n",
       "  </tbody>\n",
       "</table>\n",
       "</div>"
      ],
      "text/plain": [
       "              Age  EstimatedSalary   Purchased\n",
       "count  400.000000       400.000000  400.000000\n",
       "mean    37.655000     69742.500000    0.357500\n",
       "std     10.482877     34096.960282    0.479864\n",
       "min     18.000000     15000.000000    0.000000\n",
       "25%     29.750000     43000.000000    0.000000\n",
       "50%     37.000000     70000.000000    0.000000\n",
       "75%     46.000000     88000.000000    1.000000\n",
       "max     60.000000    150000.000000    1.000000"
      ]
     },
     "execution_count": 5,
     "metadata": {},
     "output_type": "execute_result"
    }
   ],
   "source": [
    "df.describe()"
   ]
  },
  {
   "cell_type": "code",
   "execution_count": 6,
   "id": "b0c540fc",
   "metadata": {
    "execution": {
     "iopub.execute_input": "2022-09-16T03:11:45.622245Z",
     "iopub.status.busy": "2022-09-16T03:11:45.621230Z",
     "iopub.status.idle": "2022-09-16T03:11:45.629427Z",
     "shell.execute_reply": "2022-09-16T03:11:45.628397Z"
    },
    "papermill": {
     "duration": 0.024533,
     "end_time": "2022-09-16T03:11:45.631558",
     "exception": false,
     "start_time": "2022-09-16T03:11:45.607025",
     "status": "completed"
    },
    "tags": []
   },
   "outputs": [
    {
     "data": {
      "text/plain": [
       "Age                0\n",
       "EstimatedSalary    0\n",
       "Purchased          0\n",
       "dtype: int64"
      ]
     },
     "execution_count": 6,
     "metadata": {},
     "output_type": "execute_result"
    }
   ],
   "source": [
    "#check nulls \n",
    "df.isnull().sum()"
   ]
  },
  {
   "cell_type": "markdown",
   "id": "0d098bae",
   "metadata": {
    "papermill": {
     "duration": 0.012696,
     "end_time": "2022-09-16T03:11:45.657319",
     "exception": false,
     "start_time": "2022-09-16T03:11:45.644623",
     "status": "completed"
    },
    "tags": []
   },
   "source": [
    "# 3-EDA"
   ]
  },
  {
   "cell_type": "code",
   "execution_count": 7,
   "id": "9ac76b37",
   "metadata": {
    "execution": {
     "iopub.execute_input": "2022-09-16T03:11:45.685365Z",
     "iopub.status.busy": "2022-09-16T03:11:45.684738Z",
     "iopub.status.idle": "2022-09-16T03:11:45.692288Z",
     "shell.execute_reply": "2022-09-16T03:11:45.691312Z"
    },
    "papermill": {
     "duration": 0.024164,
     "end_time": "2022-09-16T03:11:45.694458",
     "exception": false,
     "start_time": "2022-09-16T03:11:45.670294",
     "status": "completed"
    },
    "tags": []
   },
   "outputs": [
    {
     "data": {
      "text/plain": [
       "0    257\n",
       "1    143\n",
       "Name: Purchased, dtype: int64"
      ]
     },
     "execution_count": 7,
     "metadata": {},
     "output_type": "execute_result"
    }
   ],
   "source": [
    "df['Purchased'].value_counts()\n"
   ]
  },
  {
   "cell_type": "code",
   "execution_count": 8,
   "id": "67085cd1",
   "metadata": {
    "execution": {
     "iopub.execute_input": "2022-09-16T03:11:45.723221Z",
     "iopub.status.busy": "2022-09-16T03:11:45.722599Z",
     "iopub.status.idle": "2022-09-16T03:11:45.919918Z",
     "shell.execute_reply": "2022-09-16T03:11:45.918648Z"
    },
    "papermill": {
     "duration": 0.214545,
     "end_time": "2022-09-16T03:11:45.922583",
     "exception": false,
     "start_time": "2022-09-16T03:11:45.708038",
     "status": "completed"
    },
    "tags": []
   },
   "outputs": [
    {
     "data": {
      "text/plain": [
       "<AxesSubplot:title={'center':'Count of purchased'}, xlabel='Purchased', ylabel='count'>"
      ]
     },
     "execution_count": 8,
     "metadata": {},
     "output_type": "execute_result"
    },
    {
     "data": {
      "image/png": "[encoded data removed]",
      "text/plain": [
       "<Figure size 1008x576 with 1 Axes>"
      ]
     },
     "metadata": {
      "needs_background": "light"
     },
     "output_type": "display_data"
    }
   ],
   "source": [
    "#Showin the count of Purchases \n",
    "plt.figure(figsize=(14,8))\n",
    "plt.title('Count of purchased')\n",
    "sns.countplot(data=df,x='Purchased')"
   ]
  },
  {
   "cell_type": "markdown",
   "id": "f815026c",
   "metadata": {
    "papermill": {
     "duration": 0.013,
     "end_time": "2022-09-16T03:11:45.949799",
     "exception": false,
     "start_time": "2022-09-16T03:11:45.936799",
     "status": "completed"
    },
    "tags": []
   },
   "source": [
    "> the data is a little in-balance "
   ]
  },
  {
   "cell_type": "code",
   "execution_count": 9,
   "id": "664650f0",
   "metadata": {
    "execution": {
     "iopub.execute_input": "2022-09-16T03:11:45.979034Z",
     "iopub.status.busy": "2022-09-16T03:11:45.977940Z",
     "iopub.status.idle": "2022-09-16T03:11:46.292154Z",
     "shell.execute_reply": "2022-09-16T03:11:46.290805Z"
    },
    "papermill": {
     "duration": 0.331559,
     "end_time": "2022-09-16T03:11:46.294747",
     "exception": false,
     "start_time": "2022-09-16T03:11:45.963188",
     "status": "completed"
    },
    "tags": []
   },
   "outputs": [
    {
     "data": {
      "text/plain": [
       "<AxesSubplot:title={'center':'Age Distribution'}, xlabel='Age', ylabel='Count'>"
      ]
     },
     "execution_count": 9,
     "metadata": {},
     "output_type": "execute_result"
    },
    {
     "data": {
      "image/png": "[encoded data removed]",
      "text/plain": [
       "<Figure size 1008x576 with 1 Axes>"
      ]
     },
     "metadata": {
      "needs_background": "light"
     },
     "output_type": "display_data"
    }
   ],
   "source": [
    "# plot the distribution of ages \n",
    "plt.figure(figsize=(14,8))\n",
    "plt.title(\"Age Distribution\")\n",
    "sns.histplot(data=df,x=df['Age'],kde=True,bins=40)"
   ]
  },
  {
   "cell_type": "markdown",
   "id": "142d2bc7",
   "metadata": {
    "papermill": {
     "duration": 0.013851,
     "end_time": "2022-09-16T03:11:46.322738",
     "exception": false,
     "start_time": "2022-09-16T03:11:46.308887",
     "status": "completed"
    },
    "tags": []
   },
   "source": [
    "> No skewness,Normal distribution and thats a good indicator for linear based models  "
   ]
  },
  {
   "cell_type": "code",
   "execution_count": 10,
   "id": "f5b17e16",
   "metadata": {
    "execution": {
     "iopub.execute_input": "2022-09-16T03:11:46.353100Z",
     "iopub.status.busy": "2022-09-16T03:11:46.352372Z",
     "iopub.status.idle": "2022-09-16T03:11:46.654115Z",
     "shell.execute_reply": "2022-09-16T03:11:46.652739Z"
    },
    "papermill": {
     "duration": 0.319346,
     "end_time": "2022-09-16T03:11:46.656456",
     "exception": false,
     "start_time": "2022-09-16T03:11:46.337110",
     "status": "completed"
    },
    "tags": []
   },
   "outputs": [
    {
     "data": {
      "text/plain": [
       "<AxesSubplot:title={'center':'Estimated Saleries Distribution '}, xlabel='EstimatedSalary', ylabel='Count'>"
      ]
     },
     "execution_count": 10,
     "metadata": {},
     "output_type": "execute_result"
    },
    {
     "data": {
      "image/png": "[encoded data removed]",
      "text/plain": [
       "<Figure size 1008x576 with 1 Axes>"
      ]
     },
     "metadata": {
      "needs_background": "light"
     },
     "output_type": "display_data"
    }
   ],
   "source": [
    "#Plot the distribution of estimated saleries \n",
    "plt.figure(figsize=(14,8))\n",
    "plt.title('Estimated Saleries Distribution ')\n",
    "sns.histplot(data=df,x=df['EstimatedSalary'],kde=True,bins=20)"
   ]
  },
  {
   "cell_type": "code",
   "execution_count": 11,
   "id": "57c32f71",
   "metadata": {
    "execution": {
     "iopub.execute_input": "2022-09-16T03:11:46.689024Z",
     "iopub.status.busy": "2022-09-16T03:11:46.688226Z",
     "iopub.status.idle": "2022-09-16T03:11:46.698499Z",
     "shell.execute_reply": "2022-09-16T03:11:46.697176Z"
    },
    "papermill": {
     "duration": 0.029532,
     "end_time": "2022-09-16T03:11:46.700964",
     "exception": false,
     "start_time": "2022-09-16T03:11:46.671432",
     "status": "completed"
    },
    "tags": []
   },
   "outputs": [
    {
     "name": "stdout",
     "output_type": "stream",
     "text": [
      "69742.5\n",
      "70000.0\n",
      "0    72000\n",
      "dtype: int64\n"
     ]
    }
   ],
   "source": [
    "print(df['EstimatedSalary'].mean())\n",
    "print(df['EstimatedSalary'].median())\n",
    "print(df['EstimatedSalary'].mode())"
   ]
  },
  {
   "cell_type": "markdown",
   "id": "76132601",
   "metadata": {
    "papermill": {
     "duration": 0.014799,
     "end_time": "2022-09-16T03:11:46.730425",
     "exception": false,
     "start_time": "2022-09-16T03:11:46.715626",
     "status": "completed"
    },
    "tags": []
   },
   "source": []
  },
  {
   "cell_type": "markdown",
   "id": "bab827e6",
   "metadata": {
    "papermill": {
     "duration": 0.014486,
     "end_time": "2022-09-16T03:11:46.760064",
     "exception": false,
     "start_time": "2022-09-16T03:11:46.745578",
     "status": "completed"
    },
    "tags": []
   },
   "source": [
    "> "
   ]
  },
  {
   "cell_type": "code",
   "execution_count": 12,
   "id": "cc76c991",
   "metadata": {
    "execution": {
     "iopub.execute_input": "2022-09-16T03:11:46.792557Z",
     "iopub.status.busy": "2022-09-16T03:11:46.792167Z",
     "iopub.status.idle": "2022-09-16T03:11:47.202480Z",
     "shell.execute_reply": "2022-09-16T03:11:47.201484Z"
    },
    "papermill": {
     "duration": 0.431536,
     "end_time": "2022-09-16T03:11:47.206985",
     "exception": false,
     "start_time": "2022-09-16T03:11:46.775449",
     "status": "completed"
    },
    "tags": []
   },
   "outputs": [
    {
     "data": {
      "text/plain": [
       "<AxesSubplot:title={'center':'Estimated Salary vs Age vs Purchases'}, xlabel='Age', ylabel='EstimatedSalary'>"
      ]
     },
     "execution_count": 12,
     "metadata": {},
     "output_type": "execute_result"
    },
    {
     "data": {
      "image/png": "[encoded data removed]",
      "text/plain": [
       "<Figure size 1008x720 with 1 Axes>"
      ]
     },
     "metadata": {
      "needs_background": "light"
     },
     "output_type": "display_data"
    }
   ],
   "source": [
    "plt.figure(figsize=(14,10))\n",
    "plt.title('Estimated Salary vs Age vs Purchases')\n",
    "sns.scatterplot(data=df,x='Age',y='EstimatedSalary',hue='Purchased',s=200)"
   ]
  },
  {
   "cell_type": "markdown",
   "id": "66e5dc3c",
   "metadata": {
    "papermill": {
     "duration": 0.017015,
     "end_time": "2022-09-16T03:11:47.242069",
     "exception": false,
     "start_time": "2022-09-16T03:11:47.225054",
     "status": "completed"
    },
    "tags": []
   },
   "source": [
    "> from the chart, we observed that most of the people from **' 20s** to **' 30s** their estimated salaries range between **20000** and **90000** so they aren't purchasing the ads for many reasons maybe like they have kids and other priorities but the ones whose salaries ranges above **90000** they do purchase the ads, at the other hand the people above **'40s** to **'60s** most of them have purchased the ads regardless of their estimated salary."
   ]
  },
  {
   "cell_type": "code",
   "execution_count": 13,
   "id": "27358122",
   "metadata": {
    "execution": {
     "iopub.execute_input": "2022-09-16T03:11:47.279705Z",
     "iopub.status.busy": "2022-09-16T03:11:47.279296Z",
     "iopub.status.idle": "2022-09-16T03:11:47.561970Z",
     "shell.execute_reply": "2022-09-16T03:11:47.560786Z"
    },
    "papermill": {
     "duration": 0.30437,
     "end_time": "2022-09-16T03:11:47.564542",
     "exception": false,
     "start_time": "2022-09-16T03:11:47.260172",
     "status": "completed"
    },
    "tags": []
   },
   "outputs": [
    {
     "data": {
      "text/plain": [
       "<AxesSubplot:title={'center':'Heat map of Correlation'}>"
      ]
     },
     "execution_count": 13,
     "metadata": {},
     "output_type": "execute_result"
    },
    {
     "data": {
      "image/png": "[encoded data removed]",
      "text/plain": [
       "<Figure size 432x288 with 2 Axes>"
      ]
     },
     "metadata": {
      "needs_background": "light"
     },
     "output_type": "display_data"
    }
   ],
   "source": [
    "plt.title('Heat map of Correlation')\n",
    "sns.heatmap(data=df.corr(), annot= True)"
   ]
  },
  {
   "cell_type": "markdown",
   "id": "ff0e93ed",
   "metadata": {
    "papermill": {
     "duration": 0.018386,
     "end_time": "2022-09-16T03:11:47.601346",
     "exception": false,
     "start_time": "2022-09-16T03:11:47.582960",
     "status": "completed"
    },
    "tags": []
   },
   "source": [
    "> positive correlation between purchased and age"
   ]
  },
  {
   "cell_type": "code",
   "execution_count": null,
   "id": "99c61ccf",
   "metadata": {
    "papermill": {
     "duration": 0.0175,
     "end_time": "2022-09-16T03:11:47.636931",
     "exception": false,
     "start_time": "2022-09-16T03:11:47.619431",
     "status": "completed"
    },
    "tags": []
   },
   "outputs": [],
   "source": []
  },
  {
   "cell_type": "markdown",
   "id": "747e8f75",
   "metadata": {
    "papermill": {
     "duration": 0.018978,
     "end_time": "2022-09-16T03:11:47.673826",
     "exception": false,
     "start_time": "2022-09-16T03:11:47.654848",
     "status": "completed"
    },
    "tags": []
   },
   "source": [
    "# 4- Feature Engineering"
   ]
  },
  {
   "cell_type": "code",
   "execution_count": 14,
   "id": "61f4c33f",
   "metadata": {
    "execution": {
     "iopub.execute_input": "2022-09-16T03:11:47.711097Z",
     "iopub.status.busy": "2022-09-16T03:11:47.710679Z",
     "iopub.status.idle": "2022-09-16T03:11:47.716407Z",
     "shell.execute_reply": "2022-09-16T03:11:47.715600Z"
    },
    "papermill": {
     "duration": 0.026975,
     "end_time": "2022-09-16T03:11:47.718602",
     "exception": false,
     "start_time": "2022-09-16T03:11:47.691627",
     "status": "completed"
    },
    "tags": []
   },
   "outputs": [],
   "source": [
    "X = df.drop('Purchased',axis=1)\n",
    "y = df['Purchased']"
   ]
  },
  {
   "cell_type": "code",
   "execution_count": 15,
   "id": "4f442107",
   "metadata": {
    "execution": {
     "iopub.execute_input": "2022-09-16T03:11:47.756427Z",
     "iopub.status.busy": "2022-09-16T03:11:47.756024Z",
     "iopub.status.idle": "2022-09-16T03:11:47.761023Z",
     "shell.execute_reply": "2022-09-16T03:11:47.759992Z"
    },
    "papermill": {
     "duration": 0.026941,
     "end_time": "2022-09-16T03:11:47.763426",
     "exception": false,
     "start_time": "2022-09-16T03:11:47.736485",
     "status": "completed"
    },
    "tags": []
   },
   "outputs": [],
   "source": [
    "from sklearn.model_selection import train_test_split\n",
    "from sklearn.preprocessing import StandardScaler"
   ]
  },
  {
   "cell_type": "code",
   "execution_count": 16,
   "id": "bb9d86e6",
   "metadata": {
    "execution": {
     "iopub.execute_input": "2022-09-16T03:11:47.801139Z",
     "iopub.status.busy": "2022-09-16T03:11:47.800701Z",
     "iopub.status.idle": "2022-09-16T03:11:47.806962Z",
     "shell.execute_reply": "2022-09-16T03:11:47.806119Z"
    },
    "papermill": {
     "duration": 0.02788,
     "end_time": "2022-09-16T03:11:47.809304",
     "exception": false,
     "start_time": "2022-09-16T03:11:47.781424",
     "status": "completed"
    },
    "tags": []
   },
   "outputs": [],
   "source": [
    "X_train,X_test,y_train,y_test = train_test_split(X,y,test_size=0.2,random_state=42)\n"
   ]
  },
  {
   "cell_type": "code",
   "execution_count": 17,
   "id": "d9ac7d32",
   "metadata": {
    "execution": {
     "iopub.execute_input": "2022-09-16T03:11:47.847415Z",
     "iopub.status.busy": "2022-09-16T03:11:47.847001Z",
     "iopub.status.idle": "2022-09-16T03:11:47.858122Z",
     "shell.execute_reply": "2022-09-16T03:11:47.856687Z"
    },
    "papermill": {
     "duration": 0.033316,
     "end_time": "2022-09-16T03:11:47.860564",
     "exception": false,
     "start_time": "2022-09-16T03:11:47.827248",
     "status": "completed"
    },
    "tags": []
   },
   "outputs": [],
   "source": [
    "#Scaling \n",
    "scaler = StandardScaler()\n",
    "X_train = scaler.fit_transform(X_train)\n",
    "X_test = scaler.transform(X_test)"
   ]
  },
  {
   "cell_type": "code",
   "execution_count": null,
   "id": "98351926",
   "metadata": {
    "papermill": {
     "duration": 0.018198,
     "end_time": "2022-09-16T03:11:47.897142",
     "exception": false,
     "start_time": "2022-09-16T03:11:47.878944",
     "status": "completed"
    },
    "tags": []
   },
   "outputs": [],
   "source": []
  },
  {
   "cell_type": "markdown",
   "id": "4b7ee181",
   "metadata": {
    "papermill": {
     "duration": 0.018056,
     "end_time": "2022-09-16T03:11:47.932968",
     "exception": false,
     "start_time": "2022-09-16T03:11:47.914912",
     "status": "completed"
    },
    "tags": []
   },
   "source": [
    "# 5- Modeling "
   ]
  },
  {
   "cell_type": "code",
   "execution_count": 18,
   "id": "145694d4",
   "metadata": {
    "execution": {
     "iopub.execute_input": "2022-09-16T03:11:47.970565Z",
     "iopub.status.busy": "2022-09-16T03:11:47.970005Z",
     "iopub.status.idle": "2022-09-16T03:11:47.977352Z",
     "shell.execute_reply": "2022-09-16T03:11:47.976305Z"
    },
    "papermill": {
     "duration": 0.028851,
     "end_time": "2022-09-16T03:11:47.979627",
     "exception": false,
     "start_time": "2022-09-16T03:11:47.950776",
     "status": "completed"
    },
    "tags": []
   },
   "outputs": [],
   "source": [
    "def fit_and_score(models,X_train, X_test, y_train, y_test):\n",
    "    np.random.seed(42)\n",
    "    \n",
    "    model_scores = {}\n",
    "    \n",
    "    for name, model in models.items():\n",
    "        model.fit(X_train, y_train)\n",
    "        model_scores[name]  = model.score(X_test,y_test)\n",
    "        \n",
    "    model_scores = pd.DataFrame(model_scores,index=['Score']).transpose()\n",
    "    model_scores = model_scores.sort_values('Score')\n",
    "    \n",
    "    return model_scores"
   ]
  },
  {
   "cell_type": "code",
   "execution_count": 19,
   "id": "b18afb45",
   "metadata": {
    "execution": {
     "iopub.execute_input": "2022-09-16T03:11:48.018302Z",
     "iopub.status.busy": "2022-09-16T03:11:48.017887Z",
     "iopub.status.idle": "2022-09-16T03:11:48.024310Z",
     "shell.execute_reply": "2022-09-16T03:11:48.023174Z"
    },
    "papermill": {
     "duration": 0.028184,
     "end_time": "2022-09-16T03:11:48.026572",
     "exception": false,
     "start_time": "2022-09-16T03:11:47.998388",
     "status": "completed"
    },
    "tags": []
   },
   "outputs": [],
   "source": [
    "models = {'LogisticRegression': LogisticRegression(max_iter=10000),\n",
    "          'KNeighborsClassifier': KNeighborsClassifier(),\n",
    "          'SVC': SVC(),\n",
    "          'DecisionTreeClassifier': DecisionTreeClassifier(),\n",
    "          'RandomForestClassifier': RandomForestClassifier(),\n",
    "          'AdaBoostClassifier': AdaBoostClassifier(),\n",
    "          'GradientBoostingClassifier': GradientBoostingClassifier(),\n",
    "          'XGBClassifier': XGBClassifier(eval_metric='mlogloss'),\n",
    "          'XGBRFClassifier': XGBRFClassifier(eval_metric='mlogloss')}"
   ]
  },
  {
   "cell_type": "code",
   "execution_count": 20,
   "id": "7ebb990a",
   "metadata": {
    "execution": {
     "iopub.execute_input": "2022-09-16T03:11:48.065142Z",
     "iopub.status.busy": "2022-09-16T03:11:48.063946Z",
     "iopub.status.idle": "2022-09-16T03:11:48.872975Z",
     "shell.execute_reply": "2022-09-16T03:11:48.872026Z"
    },
    "papermill": {
     "duration": 0.830469,
     "end_time": "2022-09-16T03:11:48.875439",
     "exception": false,
     "start_time": "2022-09-16T03:11:48.044970",
     "status": "completed"
    },
    "tags": []
   },
   "outputs": [],
   "source": [
    "baseline_model_scores = fit_and_score(models,X_train, X_test, y_train, y_test)"
   ]
  },
  {
   "cell_type": "code",
   "execution_count": 21,
   "id": "feb83b83",
   "metadata": {
    "execution": {
     "iopub.execute_input": "2022-09-16T03:11:48.928139Z",
     "iopub.status.busy": "2022-09-16T03:11:48.927404Z",
     "iopub.status.idle": "2022-09-16T03:11:48.937863Z",
     "shell.execute_reply": "2022-09-16T03:11:48.936994Z"
    },
    "papermill": {
     "duration": 0.045939,
     "end_time": "2022-09-16T03:11:48.940061",
     "exception": false,
     "start_time": "2022-09-16T03:11:48.894122",
     "status": "completed"
    },
    "tags": []
   },
   "outputs": [
    {
     "data": {
      "text/html": [
       "<div>\n",
       "<style scoped>\n",
       "    .dataframe tbody tr th:only-of-type {\n",
       "        vertical-align: middle;\n",
       "    }\n",
       "\n",
       "    .dataframe tbody tr th {\n",
       "        vertical-align: top;\n",
       "    }\n",
       "\n",
       "    .dataframe thead th {\n",
       "        text-align: right;\n",
       "    }\n",
       "</style>\n",
       "<table border=\"1\" class=\"dataframe\">\n",
       "  <thead>\n",
       "    <tr style=\"text-align: right;\">\n",
       "      <th></th>\n",
       "      <th>Score</th>\n",
       "    </tr>\n",
       "  </thead>\n",
       "  <tbody>\n",
       "    <tr>\n",
       "      <th>DecisionTreeClassifier</th>\n",
       "      <td>0.8375</td>\n",
       "    </tr>\n",
       "    <tr>\n",
       "      <th>LogisticRegression</th>\n",
       "      <td>0.8625</td>\n",
       "    </tr>\n",
       "    <tr>\n",
       "      <th>GradientBoostingClassifier</th>\n",
       "      <td>0.8625</td>\n",
       "    </tr>\n",
       "    <tr>\n",
       "      <th>RandomForestClassifier</th>\n",
       "      <td>0.8875</td>\n",
       "    </tr>\n",
       "    <tr>\n",
       "      <th>AdaBoostClassifier</th>\n",
       "      <td>0.8875</td>\n",
       "    </tr>\n",
       "    <tr>\n",
       "      <th>KNeighborsClassifier</th>\n",
       "      <td>0.9125</td>\n",
       "    </tr>\n",
       "    <tr>\n",
       "      <th>XGBClassifier</th>\n",
       "      <td>0.9125</td>\n",
       "    </tr>\n",
       "    <tr>\n",
       "      <th>SVC</th>\n",
       "      <td>0.9250</td>\n",
       "    </tr>\n",
       "    <tr>\n",
       "      <th>XGBRFClassifier</th>\n",
       "      <td>0.9250</td>\n",
       "    </tr>\n",
       "  </tbody>\n",
       "</table>\n",
       "</div>"
      ],
      "text/plain": [
       "                             Score\n",
       "DecisionTreeClassifier      0.8375\n",
       "LogisticRegression          0.8625\n",
       "GradientBoostingClassifier  0.8625\n",
       "RandomForestClassifier      0.8875\n",
       "AdaBoostClassifier          0.8875\n",
       "KNeighborsClassifier        0.9125\n",
       "XGBClassifier               0.9125\n",
       "SVC                         0.9250\n",
       "XGBRFClassifier             0.9250"
      ]
     },
     "execution_count": 21,
     "metadata": {},
     "output_type": "execute_result"
    }
   ],
   "source": [
    "baseline_model_scores"
   ]
  },
  {
   "cell_type": "code",
   "execution_count": 22,
   "id": "9c148b4d",
   "metadata": {
    "execution": {
     "iopub.execute_input": "2022-09-16T03:11:48.978890Z",
     "iopub.status.busy": "2022-09-16T03:11:48.977863Z",
     "iopub.status.idle": "2022-09-16T03:11:49.262387Z",
     "shell.execute_reply": "2022-09-16T03:11:49.261330Z"
    },
    "papermill": {
     "duration": 0.307376,
     "end_time": "2022-09-16T03:11:49.265371",
     "exception": false,
     "start_time": "2022-09-16T03:11:48.957995",
     "status": "completed"
    },
    "tags": []
   },
   "outputs": [
    {
     "data": {
      "image/png": "[encoded data removed]",
      "text/plain": [
       "<Figure size 1008x720 with 1 Axes>"
      ]
     },
     "metadata": {
      "needs_background": "light"
     },
     "output_type": "display_data"
    }
   ],
   "source": [
    "plt.figure(figsize=(14,10))\n",
    "sns.barplot(data=baseline_model_scores.sort_values('Score').T)\n",
    "plt.title('Baseline Models Score')\n",
    "plt.xticks(rotation=90);"
   ]
  },
  {
   "cell_type": "code",
   "execution_count": null,
   "id": "e63d0281",
   "metadata": {
    "papermill": {
     "duration": 0.018112,
     "end_time": "2022-09-16T03:11:49.301886",
     "exception": false,
     "start_time": "2022-09-16T03:11:49.283774",
     "status": "completed"
    },
    "tags": []
   },
   "outputs": [],
   "source": []
  },
  {
   "cell_type": "markdown",
   "id": "8698bfe9",
   "metadata": {
    "papermill": {
     "duration": 0.018474,
     "end_time": "2022-09-16T03:11:49.338860",
     "exception": false,
     "start_time": "2022-09-16T03:11:49.320386",
     "status": "completed"
    },
    "tags": []
   },
   "source": [
    "> we will choose the following model to have an in-depth look:\n",
    "* KNeighborsClassifier 0.9125\n",
    "* XGBClassifier 0.9125\n",
    "* SVC\t0.9250\n",
    "* XGBRFClassifier\t0.9250"
   ]
  },
  {
   "cell_type": "code",
   "execution_count": null,
   "id": "95ba3996",
   "metadata": {
    "papermill": {
     "duration": 0.018668,
     "end_time": "2022-09-16T03:11:49.376247",
     "exception": false,
     "start_time": "2022-09-16T03:11:49.357579",
     "status": "completed"
    },
    "tags": []
   },
   "outputs": [],
   "source": []
  },
  {
   "cell_type": "markdown",
   "id": "068de722",
   "metadata": {
    "papermill": {
     "duration": 0.01847,
     "end_time": "2022-09-16T03:11:49.413343",
     "exception": false,
     "start_time": "2022-09-16T03:11:49.394873",
     "status": "completed"
    },
    "tags": []
   },
   "source": [
    "# Hyperparameter Tuning unsing Random Search CV "
   ]
  },
  {
   "cell_type": "code",
   "execution_count": 23,
   "id": "6531414f",
   "metadata": {
    "execution": {
     "iopub.execute_input": "2022-09-16T03:11:49.451848Z",
     "iopub.status.busy": "2022-09-16T03:11:49.451392Z",
     "iopub.status.idle": "2022-09-16T03:11:49.456983Z",
     "shell.execute_reply": "2022-09-16T03:11:49.455815Z"
    },
    "papermill": {
     "duration": 0.027613,
     "end_time": "2022-09-16T03:11:49.459262",
     "exception": false,
     "start_time": "2022-09-16T03:11:49.431649",
     "status": "completed"
    },
    "tags": []
   },
   "outputs": [],
   "source": [
    "from sklearn.model_selection import RandomizedSearchCV\n",
    "from warnings import filterwarnings\n",
    "filterwarnings('ignore')"
   ]
  },
  {
   "cell_type": "code",
   "execution_count": 24,
   "id": "98b49275",
   "metadata": {
    "execution": {
     "iopub.execute_input": "2022-09-16T03:11:49.498421Z",
     "iopub.status.busy": "2022-09-16T03:11:49.497906Z",
     "iopub.status.idle": "2022-09-16T03:11:49.505779Z",
     "shell.execute_reply": "2022-09-16T03:11:49.504381Z"
    },
    "papermill": {
     "duration": 0.030431,
     "end_time": "2022-09-16T03:11:49.508085",
     "exception": false,
     "start_time": "2022-09-16T03:11:49.477654",
     "status": "completed"
    },
    "tags": []
   },
   "outputs": [],
   "source": [
    "def randomsearch_cv_scores(models, params, X_train, X_test, y_train, y_test):\n",
    "    np.random.seed(42)\n",
    "    \n",
    "    model_rs_scores = {}\n",
    "    model_rs_best_param = {}\n",
    "    \n",
    "    for name, model in models.items():\n",
    "        rs_model = RandomizedSearchCV(model,\n",
    "                                     param_distributions=params[name],\n",
    "                                     cv=5,\n",
    "                                     n_iter=20,\n",
    "                                     verbose=1)\n",
    "        rs_model.fit(X_train,y_train)\n",
    "        model_rs_scores[name] = rs_model.score(X_test,y_test)\n",
    "        model_rs_best_param[name] = rs_model.best_params_\n",
    "        \n",
    "    return model_rs_scores, model_rs_best_param"
   ]
  },
  {
   "cell_type": "markdown",
   "id": "d9f72fbb",
   "metadata": {
    "papermill": {
     "duration": 0.01801,
     "end_time": "2022-09-16T03:11:49.544518",
     "exception": false,
     "start_time": "2022-09-16T03:11:49.526508",
     "status": "completed"
    },
    "tags": []
   },
   "source": [
    "**Random Search Cv 1**"
   ]
  },
  {
   "cell_type": "code",
   "execution_count": 25,
   "id": "df46c0e9",
   "metadata": {
    "execution": {
     "iopub.execute_input": "2022-09-16T03:11:49.583375Z",
     "iopub.status.busy": "2022-09-16T03:11:49.582972Z",
     "iopub.status.idle": "2022-09-16T03:11:49.593732Z",
     "shell.execute_reply": "2022-09-16T03:11:49.592553Z"
    },
    "papermill": {
     "duration": 0.033317,
     "end_time": "2022-09-16T03:11:49.596216",
     "exception": false,
     "start_time": "2022-09-16T03:11:49.562899",
     "status": "completed"
    },
    "tags": []
   },
   "outputs": [],
   "source": [
    "params = {'KNeighborsClassifier' : {'n_neighbors': np.arange(1,100,10)},\n",
    "          \n",
    "          \n",
    "          'XGBClassifier': {'learning_rate': np.linspace(0,1,20),\n",
    "                            'gamma': [0,2,4,10,20,50],\n",
    "                            'max_depth': [2,3,6,10,20],\n",
    "                            'lambda': [0,1],\n",
    "                            'alpha' : [0,0.1,0.2,0.5,0.8,1],\n",
    "                            },\n",
    "          'XGBRFClassifier': {'learning_rate': np.linspace(0,1,20),\n",
    "                              'max_depth': [2,3,6,10,20],\n",
    "                              },\n",
    "          'SVC' : {'C': [0.1,0.5,1, 10,100,500], \n",
    "                   'kernel':['linear', 'poly', 'rbf','sigmoid'],\n",
    "                   'gamma':['scale','auto'],\n",
    "                   'degree':[2,3,4,5,6,7]}\n",
    "          }\n",
    "models = {'KNeighborsClassifier': KNeighborsClassifier(),\n",
    "         'XGBClassifier': XGBClassifier(eval_metric='mlogloss'),\n",
    "         'XGBRFClassifier': XGBRFClassifier(eval_metric='mlogloss'),\n",
    "         'SVC': SVC()\n",
    "         }"
   ]
  },
  {
   "cell_type": "code",
   "execution_count": 26,
   "id": "a77af7ca",
   "metadata": {
    "execution": {
     "iopub.execute_input": "2022-09-16T03:11:49.635370Z",
     "iopub.status.busy": "2022-09-16T03:11:49.634986Z",
     "iopub.status.idle": "2022-09-16T03:12:37.730650Z",
     "shell.execute_reply": "2022-09-16T03:12:37.729414Z"
    },
    "papermill": {
     "duration": 48.118404,
     "end_time": "2022-09-16T03:12:37.733532",
     "exception": false,
     "start_time": "2022-09-16T03:11:49.615128",
     "status": "completed"
    },
    "tags": []
   },
   "outputs": [
    {
     "name": "stdout",
     "output_type": "stream",
     "text": [
      "Fitting 5 folds for each of 10 candidates, totalling 50 fits\n",
      "Fitting 5 folds for each of 20 candidates, totalling 100 fits\n",
      "Fitting 5 folds for each of 20 candidates, totalling 100 fits\n",
      "Fitting 5 folds for each of 20 candidates, totalling 100 fits\n"
     ]
    }
   ],
   "source": [
    "model_rs_scores_1, model_rs_best_param_1 = randomsearch_cv_scores(models, params, X_train, X_test, y_train, y_test)"
   ]
  },
  {
   "cell_type": "code",
   "execution_count": 27,
   "id": "bea3c12f",
   "metadata": {
    "execution": {
     "iopub.execute_input": "2022-09-16T03:12:37.772997Z",
     "iopub.status.busy": "2022-09-16T03:12:37.772548Z",
     "iopub.status.idle": "2022-09-16T03:12:37.779937Z",
     "shell.execute_reply": "2022-09-16T03:12:37.778784Z"
    },
    "papermill": {
     "duration": 0.029907,
     "end_time": "2022-09-16T03:12:37.782249",
     "exception": false,
     "start_time": "2022-09-16T03:12:37.752342",
     "status": "completed"
    },
    "tags": []
   },
   "outputs": [
    {
     "data": {
      "text/plain": [
       "{'KNeighborsClassifier': 0.925,\n",
       " 'XGBClassifier': 0.9125,\n",
       " 'XGBRFClassifier': 0.9125,\n",
       " 'SVC': 0.9375}"
      ]
     },
     "execution_count": 27,
     "metadata": {},
     "output_type": "execute_result"
    }
   ],
   "source": [
    "model_rs_scores_1"
   ]
  },
  {
   "cell_type": "code",
   "execution_count": 28,
   "id": "937699fc",
   "metadata": {
    "execution": {
     "iopub.execute_input": "2022-09-16T03:12:37.822484Z",
     "iopub.status.busy": "2022-09-16T03:12:37.821686Z",
     "iopub.status.idle": "2022-09-16T03:12:37.829136Z",
     "shell.execute_reply": "2022-09-16T03:12:37.828233Z"
    },
    "papermill": {
     "duration": 0.029824,
     "end_time": "2022-09-16T03:12:37.831342",
     "exception": false,
     "start_time": "2022-09-16T03:12:37.801518",
     "status": "completed"
    },
    "tags": []
   },
   "outputs": [
    {
     "data": {
      "text/plain": [
       "{'KNeighborsClassifier': {'n_neighbors': 11},\n",
       " 'XGBClassifier': {'max_depth': 2,\n",
       "  'learning_rate': 0.631578947368421,\n",
       "  'lambda': 0,\n",
       "  'gamma': 20,\n",
       "  'alpha': 0},\n",
       " 'XGBRFClassifier': {'max_depth': 2, 'learning_rate': 0.47368421052631576},\n",
       " 'SVC': {'kernel': 'rbf', 'gamma': 'scale', 'degree': 7, 'C': 0.5}}"
      ]
     },
     "execution_count": 28,
     "metadata": {},
     "output_type": "execute_result"
    }
   ],
   "source": [
    "model_rs_best_param_1"
   ]
  },
  {
   "cell_type": "code",
   "execution_count": null,
   "id": "17a4e1d5",
   "metadata": {
    "papermill": {
     "duration": 0.018396,
     "end_time": "2022-09-16T03:12:37.868461",
     "exception": false,
     "start_time": "2022-09-16T03:12:37.850065",
     "status": "completed"
    },
    "tags": []
   },
   "outputs": [],
   "source": []
  },
  {
   "cell_type": "markdown",
   "id": "4bbbaba7",
   "metadata": {
    "papermill": {
     "duration": 0.018775,
     "end_time": "2022-09-16T03:12:37.905994",
     "exception": false,
     "start_time": "2022-09-16T03:12:37.887219",
     "status": "completed"
    },
    "tags": []
   },
   "source": [
    "**Random Search CV 2**"
   ]
  },
  {
   "cell_type": "code",
   "execution_count": 29,
   "id": "ba87633d",
   "metadata": {
    "execution": {
     "iopub.execute_input": "2022-09-16T03:12:37.946552Z",
     "iopub.status.busy": "2022-09-16T03:12:37.945772Z",
     "iopub.status.idle": "2022-09-16T03:12:37.954510Z",
     "shell.execute_reply": "2022-09-16T03:12:37.953227Z"
    },
    "papermill": {
     "duration": 0.031937,
     "end_time": "2022-09-16T03:12:37.957318",
     "exception": false,
     "start_time": "2022-09-16T03:12:37.925381",
     "status": "completed"
    },
    "tags": []
   },
   "outputs": [],
   "source": [
    "params = {'KNeighborsClassifier' : {'n_neighbors': np.arange(1,15)},\n",
    "          'XGBClassifier': {'learning_rate': [0.631578947368421],\n",
    "                            'gamma': [15,20,25],\n",
    "                            'max_depth': [2],\n",
    "                            'lambda': [0,1],\n",
    "                            'alpha' : [0],\n",
    "                            },\n",
    "          'XGBRFClassifier': {'learning_rate': [0.47368421052631576],\n",
    "                              'max_depth': [2],\n",
    "                              },\n",
    "          'SVC' : {'C': [0.3,0.4,0.5,0.6,0.7], \n",
    "                   'kernel':['rbf'],\n",
    "                   'gamma':['scale'],\n",
    "                   'degree':[7,8,9,10,15,20]}\n",
    "          }\n",
    "models = {'KNeighborsClassifier': KNeighborsClassifier(),\n",
    "         'XGBClassifier': XGBClassifier(eval_metric='mlogloss'),\n",
    "         'XGBRFClassifier': XGBRFClassifier(eval_metric='mlogloss'),\n",
    "         'SVC': SVC()\n",
    "         }"
   ]
  },
  {
   "cell_type": "code",
   "execution_count": 30,
   "id": "a1e845e9",
   "metadata": {
    "execution": {
     "iopub.execute_input": "2022-09-16T03:12:38.000098Z",
     "iopub.status.busy": "2022-09-16T03:12:37.999269Z",
     "iopub.status.idle": "2022-09-16T03:12:50.615962Z",
     "shell.execute_reply": "2022-09-16T03:12:50.614610Z"
    },
    "papermill": {
     "duration": 12.642616,
     "end_time": "2022-09-16T03:12:50.619406",
     "exception": false,
     "start_time": "2022-09-16T03:12:37.976790",
     "status": "completed"
    },
    "tags": []
   },
   "outputs": [
    {
     "name": "stdout",
     "output_type": "stream",
     "text": [
      "Fitting 5 folds for each of 14 candidates, totalling 70 fits\n",
      "Fitting 5 folds for each of 6 candidates, totalling 30 fits\n",
      "Fitting 5 folds for each of 1 candidates, totalling 5 fits\n",
      "Fitting 5 folds for each of 20 candidates, totalling 100 fits\n"
     ]
    }
   ],
   "source": [
    "model_rs_scores_2, model_rs_best_param_2 = randomsearch_cv_scores(models, params, X_train, X_test, y_train, y_test)\n"
   ]
  },
  {
   "cell_type": "code",
   "execution_count": 31,
   "id": "c2be5271",
   "metadata": {
    "execution": {
     "iopub.execute_input": "2022-09-16T03:12:50.660163Z",
     "iopub.status.busy": "2022-09-16T03:12:50.659777Z",
     "iopub.status.idle": "2022-09-16T03:12:50.665646Z",
     "shell.execute_reply": "2022-09-16T03:12:50.664205Z"
    },
    "papermill": {
     "duration": 0.029347,
     "end_time": "2022-09-16T03:12:50.668502",
     "exception": false,
     "start_time": "2022-09-16T03:12:50.639155",
     "status": "completed"
    },
    "tags": []
   },
   "outputs": [
    {
     "name": "stdout",
     "output_type": "stream",
     "text": [
      "Best scores:  {'KNeighborsClassifier': 0.9375, 'XGBClassifier': 0.9125, 'XGBRFClassifier': 0.9125, 'SVC': 0.925}\n"
     ]
    }
   ],
   "source": [
    "print(\"Best scores: \",model_rs_scores_2)\n"
   ]
  },
  {
   "cell_type": "code",
   "execution_count": 32,
   "id": "107ddcc0",
   "metadata": {
    "execution": {
     "iopub.execute_input": "2022-09-16T03:12:50.710480Z",
     "iopub.status.busy": "2022-09-16T03:12:50.709679Z",
     "iopub.status.idle": "2022-09-16T03:12:50.715608Z",
     "shell.execute_reply": "2022-09-16T03:12:50.714456Z"
    },
    "papermill": {
     "duration": 0.029721,
     "end_time": "2022-09-16T03:12:50.718079",
     "exception": false,
     "start_time": "2022-09-16T03:12:50.688358",
     "status": "completed"
    },
    "tags": []
   },
   "outputs": [
    {
     "name": "stdout",
     "output_type": "stream",
     "text": [
      "Best params:  {'KNeighborsClassifier': {'n_neighbors': 9}, 'XGBClassifier': {'max_depth': 2, 'learning_rate': 0.631578947368421, 'lambda': 0, 'gamma': 15, 'alpha': 0}, 'XGBRFClassifier': {'max_depth': 2, 'learning_rate': 0.47368421052631576}, 'SVC': {'kernel': 'rbf', 'gamma': 'scale', 'degree': 20, 'C': 0.6}}\n"
     ]
    }
   ],
   "source": [
    "print('Best params: ', model_rs_best_param_2)"
   ]
  },
  {
   "cell_type": "code",
   "execution_count": null,
   "id": "1e76413d",
   "metadata": {
    "papermill": {
     "duration": 0.019244,
     "end_time": "2022-09-16T03:12:50.756926",
     "exception": false,
     "start_time": "2022-09-16T03:12:50.737682",
     "status": "completed"
    },
    "tags": []
   },
   "outputs": [],
   "source": []
  },
  {
   "cell_type": "markdown",
   "id": "1576df1a",
   "metadata": {
    "papermill": {
     "duration": 0.019073,
     "end_time": "2022-09-16T03:12:50.795412",
     "exception": false,
     "start_time": "2022-09-16T03:12:50.776339",
     "status": "completed"
    },
    "tags": []
   },
   "source": [
    "# 6- Evaluating "
   ]
  },
  {
   "cell_type": "code",
   "execution_count": 33,
   "id": "9ce97184",
   "metadata": {
    "execution": {
     "iopub.execute_input": "2022-09-16T03:12:50.836334Z",
     "iopub.status.busy": "2022-09-16T03:12:50.835317Z",
     "iopub.status.idle": "2022-09-16T03:12:50.840420Z",
     "shell.execute_reply": "2022-09-16T03:12:50.839612Z"
    },
    "papermill": {
     "duration": 0.027821,
     "end_time": "2022-09-16T03:12:50.842594",
     "exception": false,
     "start_time": "2022-09-16T03:12:50.814773",
     "status": "completed"
    },
    "tags": []
   },
   "outputs": [],
   "source": [
    "from sklearn.metrics import classification_report, plot_confusion_matrix, plot_roc_curve\n"
   ]
  },
  {
   "cell_type": "code",
   "execution_count": 34,
   "id": "c74785dc",
   "metadata": {
    "execution": {
     "iopub.execute_input": "2022-09-16T03:12:50.884120Z",
     "iopub.status.busy": "2022-09-16T03:12:50.883163Z",
     "iopub.status.idle": "2022-09-16T03:12:50.893583Z",
     "shell.execute_reply": "2022-09-16T03:12:50.892205Z"
    },
    "papermill": {
     "duration": 0.034078,
     "end_time": "2022-09-16T03:12:50.896284",
     "exception": false,
     "start_time": "2022-09-16T03:12:50.862206",
     "status": "completed"
    },
    "tags": []
   },
   "outputs": [],
   "source": [
    "model = KNeighborsClassifier(n_neighbors=9)\n",
    "model.fit(X_train,y_train)\n",
    "y_preds = model.predict(X_test)"
   ]
  },
  {
   "cell_type": "code",
   "execution_count": 35,
   "id": "1d7285c8",
   "metadata": {
    "execution": {
     "iopub.execute_input": "2022-09-16T03:12:50.937242Z",
     "iopub.status.busy": "2022-09-16T03:12:50.936756Z",
     "iopub.status.idle": "2022-09-16T03:12:50.948287Z",
     "shell.execute_reply": "2022-09-16T03:12:50.946824Z"
    },
    "papermill": {
     "duration": 0.034824,
     "end_time": "2022-09-16T03:12:50.950685",
     "exception": false,
     "start_time": "2022-09-16T03:12:50.915861",
     "status": "completed"
    },
    "tags": []
   },
   "outputs": [
    {
     "name": "stdout",
     "output_type": "stream",
     "text": [
      "              precision    recall  f1-score   support\n",
      "\n",
      "           0       0.98      0.92      0.95        52\n",
      "           1       0.87      0.96      0.92        28\n",
      "\n",
      "    accuracy                           0.94        80\n",
      "   macro avg       0.93      0.94      0.93        80\n",
      "weighted avg       0.94      0.94      0.94        80\n",
      "\n"
     ]
    }
   ],
   "source": [
    "print(classification_report(y_test,y_preds))\n"
   ]
  },
  {
   "cell_type": "code",
   "execution_count": 36,
   "id": "13474f9a",
   "metadata": {
    "execution": {
     "iopub.execute_input": "2022-09-16T03:12:50.993102Z",
     "iopub.status.busy": "2022-09-16T03:12:50.991979Z",
     "iopub.status.idle": "2022-09-16T03:12:51.221640Z",
     "shell.execute_reply": "2022-09-16T03:12:51.220401Z"
    },
    "papermill": {
     "duration": 0.253173,
     "end_time": "2022-09-16T03:12:51.224218",
     "exception": false,
     "start_time": "2022-09-16T03:12:50.971045",
     "status": "completed"
    },
    "tags": []
   },
   "outputs": [
    {
     "data": {
      "text/plain": [
       "<sklearn.metrics._plot.confusion_matrix.ConfusionMatrixDisplay at 0x7f125c6e51d0>"
      ]
     },
     "execution_count": 36,
     "metadata": {},
     "output_type": "execute_result"
    },
    {
     "data": {
      "image/png": "[encoded data removed]",
      "text/plain": [
       "<Figure size 432x288 with 2 Axes>"
      ]
     },
     "metadata": {
      "needs_background": "light"
     },
     "output_type": "display_data"
    }
   ],
   "source": [
    "plot_confusion_matrix(model, X_test, y_test,)\n"
   ]
  },
  {
   "cell_type": "code",
   "execution_count": 37,
   "id": "79218cc0",
   "metadata": {
    "execution": {
     "iopub.execute_input": "2022-09-16T03:12:51.267764Z",
     "iopub.status.busy": "2022-09-16T03:12:51.266501Z",
     "iopub.status.idle": "2022-09-16T03:12:51.492107Z",
     "shell.execute_reply": "2022-09-16T03:12:51.490900Z"
    },
    "papermill": {
     "duration": 0.249473,
     "end_time": "2022-09-16T03:12:51.494567",
     "exception": false,
     "start_time": "2022-09-16T03:12:51.245094",
     "status": "completed"
    },
    "tags": []
   },
   "outputs": [
    {
     "data": {
      "text/plain": [
       "<sklearn.metrics._plot.roc_curve.RocCurveDisplay at 0x7f125c5b4f10>"
      ]
     },
     "execution_count": 37,
     "metadata": {},
     "output_type": "execute_result"
    },
    {
     "data": {
      "image/png": "[encoded data removed]",
      "text/plain": [
       "<Figure size 432x288 with 1 Axes>"
      ]
     },
     "metadata": {
      "needs_background": "light"
     },
     "output_type": "display_data"
    }
   ],
   "source": [
    "plot_roc_curve(model, X_test,y_test)\n"
   ]
  },
  {
   "cell_type": "markdown",
   "id": "8d4d8cfb",
   "metadata": {
    "papermill": {
     "duration": 0.020049,
     "end_time": "2022-09-16T03:12:51.535102",
     "exception": false,
     "start_time": "2022-09-16T03:12:51.515053",
     "status": "completed"
    },
    "tags": []
   },
   "source": [
    "Model is preforming at 94% Accuracy"
   ]
  },
  {
   "cell_type": "code",
   "execution_count": null,
   "id": "b2b46182",
   "metadata": {
    "papermill": {
     "duration": 0.020559,
     "end_time": "2022-09-16T03:12:51.576708",
     "exception": false,
     "start_time": "2022-09-16T03:12:51.556149",
     "status": "completed"
    },
    "tags": []
   },
   "outputs": [],
   "source": []
  }
 ],
 "metadata": {
  "kernelspec": {
   "display_name": "Python 3",
   "language": "python",
   "name": "python3"
  },
  "language_info": {
   "codemirror_mode": {
    "name": "ipython",
    "version": 3
   },
   "file_extension": ".py",
   "mimetype": "text/x-python",
   "name": "python",
   "nbconvert_exporter": "python",
   "pygments_lexer": "ipython3",
   "version": "3.7.12"
  },
  "papermill": {
   "default_parameters": {},
   "duration": 78.258022,
   "end_time": "2022-09-16T03:12:52.419605",
   "environment_variables": {},
   "exception": null,
   "input_path": "__notebook__.ipynb",
   "output_path": "__notebook__.ipynb",
   "parameters": {},
   "start_time": "2022-09-16T03:11:34.161583",
   "version": "2.3.4"
  }
 },
 "nbformat": 4,
 "nbformat_minor": 5
}
